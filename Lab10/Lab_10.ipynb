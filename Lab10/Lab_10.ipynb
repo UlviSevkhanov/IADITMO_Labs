{
  "nbformat": 4,
  "nbformat_minor": 0,
  "metadata": {
    "colab": {
      "provenance": []
    },
    "kernelspec": {
      "name": "python3",
      "display_name": "Python 3"
    },
    "language_info": {
      "name": "python"
    }
  },
  "cells": [
    {
      "cell_type": "markdown",
      "source": [
        "№1"
      ],
      "metadata": {
        "id": "cJmUVQmqtyGJ"
      }
    },
    {
      "cell_type": "code",
      "execution_count": 2,
      "metadata": {
        "id": "2JRAl354tPcj"
      },
      "outputs": [],
      "source": [
        "from sklearn.datasets import load_breast_cancer\n",
        "dataset = load_breast_cancer()"
      ]
    },
    {
      "cell_type": "markdown",
      "source": [
        "№2"
      ],
      "metadata": {
        "id": "AUlipWSmtzlU"
      }
    },
    {
      "cell_type": "code",
      "source": [
        "data_col_names = dataset.feature_names\n",
        "data = dataset.data\n",
        "target = dataset.target"
      ],
      "metadata": {
        "id": "mpdgV1dWtv2m"
      },
      "execution_count": 18,
      "outputs": []
    },
    {
      "cell_type": "markdown",
      "source": [
        "№3\n"
      ],
      "metadata": {
        "id": "t86ekpEit1yu"
      }
    },
    {
      "cell_type": "code",
      "source": [
        "import numpy as np\n",
        "import pandas as pd\n",
        "from numpy import linalg as LA\n",
        "\n",
        "def c_pca(initial_data, pс_number: int):\n",
        "    df = pd.DataFrame(data=initial_data, columns=data_col_names)\n",
        "\n",
        "    # нормализация\n",
        "    df = df - df.mean()\n",
        "    numpy_arr = pd.DataFrame(df).to_numpy()\n",
        "\n",
        "    # матрица ковариации\n",
        "    cov_matr = np.cov(numpy_arr, rowvar=False)\n",
        "\n",
        "    # диагонализация\n",
        "    eigenvalues, eigenvectors = LA.eig(cov_matr)\n",
        "\n",
        "    # сортировка\n",
        "    sorted_indexes = np.argsort(-eigenvalues)\n",
        "\n",
        "    # N главные компоненты\n",
        "    pc_indexes = sorted_indexes[:pс_number]\n",
        "    n_principal_components = eigenvectors[:, pc_indexes]\n",
        "\n",
        "    # модификация исходных нормализованных данных\n",
        "    dotted_data = np.dot(numpy_arr, n_principal_components)\n",
        "    return dotted_data"
      ],
      "metadata": {
        "id": "sxEoSBUkt3vn"
      },
      "execution_count": 12,
      "outputs": []
    },
    {
      "cell_type": "markdown",
      "source": [
        "№4"
      ],
      "metadata": {
        "id": "H-fDWqcjuhrM"
      }
    },
    {
      "cell_type": "code",
      "source": [
        "from sklearn.decomposition import PCA\n",
        "\n",
        "def skl_pca(initial_data, pс_number: int):\n",
        "    X = np.array(data)\n",
        "    pca = PCA(n_components=pс_number)\n",
        "    pca.fit(X)\n",
        "    return pca.transform(data)"
      ],
      "metadata": {
        "id": "oOGSAJqguisv"
      },
      "execution_count": 19,
      "outputs": []
    },
    {
      "cell_type": "code",
      "source": [
        "skl_pca(data, 2)"
      ],
      "metadata": {
        "colab": {
          "base_uri": "https://localhost:8080/"
        },
        "id": "3llXUd_aurbk",
        "outputId": "3be9d611-e4a2-4ef7-bed0-807dc63899e5"
      },
      "execution_count": 6,
      "outputs": [
        {
          "output_type": "execute_result",
          "data": {
            "text/plain": [
              "array([[1160.1425737 , -293.91754364],\n",
              "       [1269.12244319,   15.63018184],\n",
              "       [ 995.79388896,   39.15674324],\n",
              "       ...,\n",
              "       [ 314.50175618,   47.55352518],\n",
              "       [1124.85811531,   34.12922497],\n",
              "       [-771.52762188,  -88.64310636]])"
            ]
          },
          "metadata": {},
          "execution_count": 6
        }
      ]
    },
    {
      "cell_type": "code",
      "source": [
        "skl_pca(data, 3)"
      ],
      "metadata": {
        "colab": {
          "base_uri": "https://localhost:8080/"
        },
        "id": "ARuae0mOurPK",
        "outputId": "0a5f96a8-03c1-43c3-ffa1-4dcfa383e7a7"
      },
      "execution_count": 20,
      "outputs": [
        {
          "output_type": "execute_result",
          "data": {
            "text/plain": [
              "array([[1160.1425737 , -293.91754364,   48.57839763],\n",
              "       [1269.12244319,   15.63018184,  -35.39453423],\n",
              "       [ 995.79388896,   39.15674324,   -1.70975298],\n",
              "       ...,\n",
              "       [ 314.50175618,   47.55352518,  -10.44240718],\n",
              "       [1124.85811531,   34.12922497,  -19.74208742],\n",
              "       [-771.52762188,  -88.64310636,   23.88903189]])"
            ]
          },
          "metadata": {},
          "execution_count": 20
        }
      ]
    },
    {
      "cell_type": "code",
      "source": [
        "skl_pca(data, 4)"
      ],
      "metadata": {
        "colab": {
          "base_uri": "https://localhost:8080/"
        },
        "id": "rDj-VZYluq9g",
        "outputId": "4872bdec-f17c-4bbf-e40e-323348813558"
      },
      "execution_count": 21,
      "outputs": [
        {
          "output_type": "execute_result",
          "data": {
            "text/plain": [
              "array([[1160.1425737 , -293.91754364,   48.57839763,   -8.71197531],\n",
              "       [1269.12244319,   15.63018184,  -35.39453423,   17.86128323],\n",
              "       [ 995.79388896,   39.15674324,   -1.70975298,    4.1993401 ],\n",
              "       ...,\n",
              "       [ 314.50175618,   47.55352518,  -10.44240718,   -9.77188104],\n",
              "       [1124.85811531,   34.12922497,  -19.74208742,  -23.66088144],\n",
              "       [-771.52762188,  -88.64310636,   23.88903189,    2.54724855]])"
            ]
          },
          "metadata": {},
          "execution_count": 21
        }
      ]
    },
    {
      "cell_type": "markdown",
      "source": [
        "№5"
      ],
      "metadata": {
        "id": "Sm9MomIJuwJp"
      }
    },
    {
      "cell_type": "code",
      "source": [
        "c_pca(data, 2)"
      ],
      "metadata": {
        "colab": {
          "base_uri": "https://localhost:8080/"
        },
        "id": "MpQ1GpT1uw2l",
        "outputId": "b4d7b72b-4079-4b13-9ddf-5b0d6e0421b3"
      },
      "execution_count": 13,
      "outputs": [
        {
          "output_type": "execute_result",
          "data": {
            "text/plain": [
              "array([[1160.1425737 , -293.91754364],\n",
              "       [1269.12244319,   15.63018184],\n",
              "       [ 995.79388896,   39.15674324],\n",
              "       ...,\n",
              "       [ 314.50175618,   47.55352518],\n",
              "       [1124.85811531,   34.12922497],\n",
              "       [-771.52762188,  -88.64310636]])"
            ]
          },
          "metadata": {},
          "execution_count": 13
        }
      ]
    },
    {
      "cell_type": "code",
      "source": [
        "c_pca(data, 3)"
      ],
      "metadata": {
        "colab": {
          "base_uri": "https://localhost:8080/"
        },
        "id": "2hq5ddicuy7X",
        "outputId": "e0123778-273b-4a45-cafa-33008940cf38"
      },
      "execution_count": 17,
      "outputs": [
        {
          "output_type": "execute_result",
          "data": {
            "text/plain": [
              "array([[1160.1425737 , -293.91754364,   48.57839763],\n",
              "       [1269.12244319,   15.63018184,  -35.39453423],\n",
              "       [ 995.79388896,   39.15674324,   -1.70975298],\n",
              "       ...,\n",
              "       [ 314.50175618,   47.55352518,  -10.44240718],\n",
              "       [1124.85811531,   34.12922497,  -19.74208742],\n",
              "       [-771.52762188,  -88.64310636,   23.88903189]])"
            ]
          },
          "metadata": {},
          "execution_count": 17
        }
      ]
    },
    {
      "cell_type": "code",
      "source": [
        "c_pca(data, 4)"
      ],
      "metadata": {
        "colab": {
          "base_uri": "https://localhost:8080/"
        },
        "id": "9_8v8DApuzMG",
        "outputId": "27695034-0d2a-4cc9-f2fe-094ebb724a0f"
      },
      "execution_count": 16,
      "outputs": [
        {
          "output_type": "execute_result",
          "data": {
            "text/plain": [
              "array([[1160.1425737 , -293.91754364,   48.57839763,   -8.71197531],\n",
              "       [1269.12244319,   15.63018184,  -35.39453423,   17.86128323],\n",
              "       [ 995.79388896,   39.15674324,   -1.70975298,    4.1993401 ],\n",
              "       ...,\n",
              "       [ 314.50175618,   47.55352518,  -10.44240718,   -9.77188104],\n",
              "       [1124.85811531,   34.12922497,  -19.74208742,  -23.66088144],\n",
              "       [-771.52762188,  -88.64310636,   23.88903189,    2.54724855]])"
            ]
          },
          "metadata": {},
          "execution_count": 16
        }
      ]
    }
  ]
}