{
  "nbformat": 4,
  "nbformat_minor": 0,
  "metadata": {
    "colab": {
      "provenance": []
    },
    "kernelspec": {
      "name": "python3",
      "display_name": "Python 3"
    },
    "language_info": {
      "name": "python"
    }
  },
  "cells": [
    {
      "cell_type": "markdown",
      "source": [
        "# Практика 17.10.23\n",
        "\n",
        "1. Сгенерировать, используя модуль псевдослучайных чисел `random`, или ввести с клавиатуры список целых чисел. Вывести в консоль, затем перевернуть его и снова вывести в консоль.\n",
        "\n",
        "2. Сгенерировать, используя модуль псевдослучайных чисел `random`, или ввести с клавиатуры два списка целых чисел. Вывести их в консоль. Создать новый пустой список. Добавить в него все четные (по индексу) элементы первого списка и все нечетные (по индексу) элементы второго списка. Вывести третий список в консоль.\n",
        "\n",
        "3. Сгенерировать, используя модуль псевдослучайных чисел `random`, или ввести с клавиатуры список произвольных элементов (целые числа, числа с плавающей точкой, строки). Вывести в консоль. Убрать из него все дубликаты через приведение типов. Вывести в консоль.\n",
        "\n",
        "4. Сгенерировать, используя модуль псевдослучайных чисел `random`, или ввести с клавиатуры словарь, где ключом является строка, значением — целое число или число с плавающей точкой. Вывести в консоль. Для всех уникальных значений создать кортеж, где первым элементом будет значение, вторым — список связанных с ним ключей. Собрать эти кортежи в список, вывести его в консоль.\n",
        "\n",
        "5. Сгенерировать, используя модуль псевдослучайных чисел `random`, или ввести с клавиатуры два словаря, где ключом является строка, значением — целое число или число с плавающей точкой. Вывести в консоль. Найти пересечения множеств значений словарей. Создать новый словарь, содержащий только те пары ключ-значение, значения из которых входит в пересечение. Вывести в консоль.\n",
        "\n",
        "[Ссылка на документацию функции `random`](https://docs.python.org/3/library/random.html)\n",
        "\n",
        "[Built-in Types](https://docs.python.org/3/library/stdtypes.html?highlight=tuple#tuple)"
      ],
      "metadata": {
        "id": "64JPlHixec69"
      }
    },
    {
      "cell_type": "markdown",
      "source": [
        "## Задание 1"
      ],
      "metadata": {
        "id": "khjUmcSBfC_P"
      }
    },
    {
      "cell_type": "markdown",
      "source": [
        "### Эталонный пример 1"
      ],
      "metadata": {
        "id": "HAVFiCLPo28O"
      }
    },
    {
      "cell_type": "code",
      "source": [],
      "metadata": {
        "id": "hBqwHtZsfA9w"
      },
      "execution_count": null,
      "outputs": []
    },
    {
      "cell_type": "markdown",
      "source": [
        "#### Севханов Улви Тофиг оглы - Задание 1"
      ],
      "metadata": {
        "id": "J0j2RNGho6KG"
      }
    },
    {
      "cell_type": "code",
      "source": [
        "import random\n",
        "\n",
        "rand_list = [random.randint(0,100) for i in range(random.randint(25,50))]\n",
        "print(rand_list)\n",
        "rand_list.reverse()\n",
        "print(rand_list)"
      ],
      "metadata": {
        "id": "oZVYzduGpBpC",
        "colab": {
          "base_uri": "https://localhost:8080/"
        },
        "outputId": "a3a1a15f-eaa8-4e5f-bca0-ab5653ba9ea2"
      },
      "execution_count": null,
      "outputs": [
        {
          "output_type": "stream",
          "name": "stdout",
          "text": [
            "[45, 31, 29, 99, 30, 76, 58, 60, 38, 58, 91, 69, 95, 15, 12, 33, 20, 99, 74, 99, 20, 82, 40, 98, 25, 57, 22, 34, 50, 40, 77, 20, 4, 70, 39, 85, 64, 71, 76]\n",
            "[76, 71, 64, 85, 39, 70, 4, 20, 77, 40, 50, 34, 22, 57, 25, 98, 40, 82, 20, 99, 74, 99, 20, 33, 12, 15, 95, 69, 91, 58, 38, 60, 58, 76, 30, 99, 29, 31, 45]\n"
          ]
        }
      ]
    },
    {
      "cell_type": "markdown",
      "source": [
        "## Задание 2"
      ],
      "metadata": {
        "id": "a1gbYjASfIqJ"
      }
    },
    {
      "cell_type": "code",
      "source": [
        "import random\n",
        "rand_list_1 = [random.randint(0,100) for i in range(random.randint(20,40))]\n",
        "print(rand_list_1)\n",
        "rand_list_2 = [random.randint(0,100) for i in range(random.randint(20,40))]\n",
        "print(rand_list_2)\n",
        "list_3 = [elem for i, elem in enumerate(rand_list_1) if i % 2 == 0] + [elem for i, elem in enumerate(rand_list_2) if i % 2 != 0]\n",
        "print(list_3)"
      ],
      "metadata": {
        "id": "3DFZiLwJfMfC",
        "colab": {
          "base_uri": "https://localhost:8080/"
        },
        "outputId": "e8f91bef-f3ac-416d-f1d9-ed8bd1a9b368"
      },
      "execution_count": null,
      "outputs": [
        {
          "output_type": "stream",
          "name": "stdout",
          "text": [
            "[10, 5, 0, 84, 85, 99, 29, 93, 46, 68, 54, 25, 32, 14, 85, 40, 98, 48, 99, 52, 39, 55, 5, 21, 7, 31]\n",
            "[91, 34, 50, 66, 14, 41, 40, 8, 19, 77, 0, 8, 100, 98, 80, 53, 22, 63, 56, 21, 70, 84, 57, 83, 93, 8]\n",
            "[10, 0, 85, 29, 46, 54, 32, 85, 98, 99, 39, 5, 7, 34, 66, 41, 8, 77, 8, 98, 53, 63, 21, 84, 83, 8]\n"
          ]
        }
      ]
    },
    {
      "cell_type": "markdown",
      "source": [
        "## Задание 3"
      ],
      "metadata": {
        "id": "ZITkT8YUfM8t"
      }
    },
    {
      "cell_type": "code",
      "source": [
        "import random\n",
        "\n",
        "rand_list = [input() for i in range(random.randint(5,10))]\n",
        "print(rand_list)\n",
        "rand_list_result=list(set(rand_list))\n",
        "print(rand_list_result)"
      ],
      "metadata": {
        "id": "FL_u4MSlfS1w",
        "colab": {
          "base_uri": "https://localhost:8080/"
        },
        "outputId": "23bbe18e-9452-4d9a-e8f6-6a127e3f47b0"
      },
      "execution_count": null,
      "outputs": [
        {
          "output_type": "stream",
          "name": "stdout",
          "text": [
            "228.1337\n",
            "imp\n",
            "tmp\n",
            "yes\n",
            "14\n",
            "98\n",
            "['228.1337', 'imp', 'tmp', 'yes', '14', '98']\n",
            "['imp', '98', '228.1337', 'tmp', 'yes', '14']\n"
          ]
        }
      ]
    },
    {
      "cell_type": "markdown",
      "source": [
        "## Задание 4"
      ],
      "metadata": {
        "id": "sqvNf2a6fTdY"
      }
    },
    {
      "cell_type": "code",
      "source": [
        "import random\n",
        "import string\n",
        "\n",
        "def get_random_string(length):\n",
        "  letters = string.ascii_lowercase\n",
        "  result_str = ''.join(random.choice(letters) for i in range(length))\n",
        "  return result_str\n",
        "\n",
        "def get_keys(dict, value):\n",
        "  keylist = []\n",
        "  for keys, val in dict.items():\n",
        "    if val == value:\n",
        "      keylist.append(keys)\n",
        "  return keylist\n",
        "\n",
        "mydict = {}\n",
        "value = 0\n",
        "\n",
        "for i in range(25):\n",
        "  mydict.update({get_random_string(5):random.randint(-20,20)})\n",
        "\n",
        "print(\"Dictionary is\",mydict)\n",
        "new_tuple_list = []\n",
        "\n",
        "for i in set(mydict.values()):\n",
        "  new_tuple_list.append((i,get_keys(mydict,i)))\n",
        "\n",
        "\n",
        "print(\"List is\",new_tuple_list)"
      ],
      "metadata": {
        "id": "3M4BCixjfXoq",
        "colab": {
          "base_uri": "https://localhost:8080/"
        },
        "outputId": "a735f6a7-051f-43a0-a0a4-372939059733"
      },
      "execution_count": null,
      "outputs": [
        {
          "output_type": "stream",
          "name": "stdout",
          "text": [
            "Dictionary is {'tcepi': -1, 'icjhw': 17, 'phwxd': 5, 'erozh': 12, 'oxoga': -20, 'ikrvu': -14, 'fryxb': -16, 'gyysi': -8, 'puptr': 18, 'wdhgc': 0, 'eylib': 14, 'orbpq': 5, 'mxjyk': -12, 'gojem': -10, 'eeomw': 1, 'hlpqf': -2, 'hlkkq': -7, 'kvlrq': -4, 'chtss': 18, 'vuqoe': -4, 'hilbh': 20, 'dddto': 1, 'uwqau': -13, 'zjadq': 13, 'bckkb': 20}\n",
            "List is [(0, ['wdhgc']), (1, ['eeomw', 'dddto']), (5, ['phwxd', 'orbpq']), (12, ['erozh']), (13, ['zjadq']), (14, ['eylib']), (17, ['icjhw']), (18, ['puptr', 'chtss']), (20, ['hilbh', 'bckkb']), (-20, ['oxoga']), (-16, ['fryxb']), (-14, ['ikrvu']), (-13, ['uwqau']), (-12, ['mxjyk']), (-10, ['gojem']), (-1, ['tcepi']), (-8, ['gyysi']), (-7, ['hlkkq']), (-4, ['kvlrq', 'vuqoe']), (-2, ['hlpqf'])]\n"
          ]
        }
      ]
    },
    {
      "cell_type": "markdown",
      "source": [
        "## Задание 5"
      ],
      "metadata": {
        "id": "3V5mJOBQfYHe"
      }
    },
    {
      "cell_type": "code",
      "source": [
        "dict1 = {}\n",
        "dict2 = {}\n",
        "\n",
        "for i in range(25):\n",
        "  dict1.update({get_random_string(5):random.randint(-20,20)})\n",
        "  dict2.update({get_random_string(5):random.randint(-20,20)})\n",
        "\n",
        "print(\"Dictionary 1 is\",dict1)\n",
        "print(\"Dictionaty 2 is\",dict2)\n",
        "\n",
        "intersection = [value for value in list(dict1.values()) if value in list(dict2.values())]\n",
        "\n",
        "print(\"Intersection of values\",intersection)\n",
        "\n",
        "pairs = {}\n",
        "\n",
        "for key,value in dict1.items():\n",
        "  if value in intersection:\n",
        "    pairs.update({key:value})\n",
        "\n",
        "for key,value in dict2.items():\n",
        "  if value in intersection:\n",
        "    pairs.update({key:value})\n",
        "\n",
        "print(\"Pairs from intersection of values are\",pairs)"
      ],
      "metadata": {
        "id": "ekN9ImbzfZ2Z",
        "colab": {
          "base_uri": "https://localhost:8080/"
        },
        "outputId": "a458ac2d-3ee6-443c-f3fa-6d50f4b6c782"
      },
      "execution_count": null,
      "outputs": [
        {
          "output_type": "stream",
          "name": "stdout",
          "text": [
            "Dictionary 1 is {'dfsqs': 18, 'mntrg': 5, 'cmmww': -17, 'gaucp': -14, 'isyhc': -7, 'jnhgo': 4, 'glcqp': -9, 'yebwo': 11, 'cmkea': 6, 'rnlnb': -20, 'wllzr': 1, 'qpjbs': -1, 'adqaq': 6, 'mjrau': 12, 'hzvlq': -12, 'zuhss': -1, 'swupd': 12, 'etngm': -1, 'aswvv': 18, 'uawzr': -10, 'hghof': 18, 'tnfat': 1, 'fuofj': 16, 'matbl': 4, 'pepzm': -17}\n",
            "Dictionaty 2 is {'drfpg': -20, 'qmhab': -20, 'pcbcb': 16, 'zahor': -15, 'amhpi': 3, 'yftsq': -13, 'ovkjl': 6, 'cnkip': -15, 'uqizo': -19, 'qjncf': 12, 'riobe': -13, 'qpkat': 13, 'tyyds': 11, 'amhct': -5, 'hfgwt': 3, 'nmwwe': 2, 'rxjql': 10, 'waewk': -11, 'hfdja': -17, 'nfjql': 4, 'yxmud': -11, 'eujah': 14, 'ryrjw': -2, 'hzxjh': 5, 'fkfrq': -9}\n",
            "Intersection of values [5, -17, 4, -9, 11, 6, -20, 6, 12, 12, 16, 4, -17]\n",
            "Pairs from intersection of values are {'mntrg': 5, 'cmmww': -17, 'jnhgo': 4, 'glcqp': -9, 'yebwo': 11, 'cmkea': 6, 'rnlnb': -20, 'adqaq': 6, 'mjrau': 12, 'swupd': 12, 'fuofj': 16, 'matbl': 4, 'pepzm': -17, 'drfpg': -20, 'qmhab': -20, 'pcbcb': 16, 'ovkjl': 6, 'qjncf': 12, 'tyyds': 11, 'hfdja': -17, 'nfjql': 4, 'hzxjh': 5, 'fkfrq': -9}\n"
          ]
        }
      ]
    }
  ]
}