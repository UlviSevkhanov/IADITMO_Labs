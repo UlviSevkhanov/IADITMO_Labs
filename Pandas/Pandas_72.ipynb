{
  "nbformat": 4,
  "nbformat_minor": 0,
  "metadata": {
    "colab": {
      "provenance": []
    },
    "kernelspec": {
      "name": "python3",
      "display_name": "Python 3"
    },
    "language_info": {
      "name": "python"
    }
  },
  "cells": [
    {
      "cell_type": "code",
      "execution_count": null,
      "metadata": {
        "colab": {
          "base_uri": "https://localhost:8080/"
        },
        "id": "K5lHdPdbEmZt",
        "outputId": "8bd95928-4a9f-4a20-a9bf-ba19a592e3c1"
      },
      "outputs": [
        {
          "output_type": "stream",
          "name": "stdout",
          "text": [
            "a    0\n",
            "b    1\n",
            "c    2\n",
            "e    3\n",
            "d    4\n",
            "dtype: int64\n"
          ]
        }
      ],
      "source": [
        "import numpy as np\n",
        "import pandas as pd\n",
        "mylist = list('abcedfghijklmnopqrstuvwxyz')\n",
        "myarr = np.arange(26)\n",
        "mydict = dict(zip(mylist, myarr))\n",
        "\n",
        "ser1=pd.Series(mylist)\n",
        "ser2=pd.Series(myarr)\n",
        "ser3=pd.Series(mydict)\n",
        "\n",
        "print(ser3.head())"
      ]
    },
    {
      "cell_type": "code",
      "source": [
        "import numpy as np\n",
        "mylist = list('abcedfghijklmnopqrstuvwxyz')\n",
        "myarr = np.arange(26)\n",
        "mydict = dict(zip(mylist, myarr))\n",
        "ser = pd.Series(mydict)\n",
        "\n",
        "df=ser.to_frame()\n",
        "print(df.head())"
      ],
      "metadata": {
        "colab": {
          "base_uri": "https://localhost:8080/"
        },
        "id": "gt85H-dzGpL2",
        "outputId": "420c6b10-d0f3-4627-c006-ffe898f631d3"
      },
      "execution_count": null,
      "outputs": [
        {
          "output_type": "stream",
          "name": "stdout",
          "text": [
            "   0\n",
            "a  0\n",
            "b  1\n",
            "c  2\n",
            "e  3\n",
            "d  4\n"
          ]
        }
      ]
    },
    {
      "cell_type": "code",
      "source": [
        "import numpy as np\n",
        "mylist = list('abcedfghijklmnopqrstuvwxyz')\n",
        "myarr = np.arange(26)\n",
        "mydict = dict(zip(mylist, myarr))\n",
        "\n",
        "ser1=pd.Series(mylist)\n",
        "ser2=pd.Series(myarr)\n",
        "df=pd.concat([ser1,ser2],axis=0)\n",
        "df=pd.DataFrame({'col1': ser1, 'col2': ser2})\n",
        "print(df.head())\n"
      ],
      "metadata": {
        "colab": {
          "base_uri": "https://localhost:8080/"
        },
        "id": "LvMjC50BHJFn",
        "outputId": "bb6ab093-5b50-4e1d-8cfc-8aa0c49e16f3"
      },
      "execution_count": null,
      "outputs": [
        {
          "output_type": "stream",
          "name": "stdout",
          "text": [
            "  col1  col2\n",
            "0    a     0\n",
            "1    b     1\n",
            "2    c     2\n",
            "3    e     3\n",
            "4    d     4\n"
          ]
        }
      ]
    },
    {
      "cell_type": "code",
      "source": [
        "ser = pd.Series(list('abcedfghijklmnopqrstuvwxyz'))\n",
        "\n",
        "ser.name = 'latin_letters'\n",
        "print(ser.head())"
      ],
      "metadata": {
        "colab": {
          "base_uri": "https://localhost:8080/"
        },
        "id": "qoK99BnmILaU",
        "outputId": "6f8fa675-2c8b-48eb-9f77-946723f02792"
      },
      "execution_count": null,
      "outputs": [
        {
          "output_type": "stream",
          "name": "stdout",
          "text": [
            "0    a\n",
            "1    b\n",
            "2    c\n",
            "3    e\n",
            "4    d\n",
            "Name: latin_letters, dtype: object\n"
          ]
        }
      ]
    },
    {
      "cell_type": "code",
      "source": [
        "ser1 = pd.Series([1, 2, 3, 4, 5])\n",
        "ser2 = pd.Series([4, 5, 6, 7, 8])\n",
        "\n",
        "res = ser1[~np.isin(ser1, ser2)]\n",
        "print(res)"
      ],
      "metadata": {
        "colab": {
          "base_uri": "https://localhost:8080/"
        },
        "id": "DcbRlOsIIwnN",
        "outputId": "948b7dbf-e346-4acf-c87b-5826a1fb84ca"
      },
      "execution_count": null,
      "outputs": [
        {
          "output_type": "stream",
          "name": "stdout",
          "text": [
            "0    1\n",
            "1    2\n",
            "2    3\n",
            "dtype: int64\n"
          ]
        }
      ]
    },
    {
      "cell_type": "code",
      "source": [
        "ser1 = pd.Series([1, 2, 3, 4, 5])\n",
        "ser2 = pd.Series([4, 5, 6, 7, 8])\n",
        "\n",
        "union = pd.Series(np.union1d(ser1, ser2))\n",
        "intersect = pd.Series(np.intersect1d(ser1, ser2))\n",
        "notcommonseries = union[~union.isin(intersect)]\n",
        "print(notcommonseries)"
      ],
      "metadata": {
        "colab": {
          "base_uri": "https://localhost:8080/"
        },
        "id": "r2K3RCYRJjDS",
        "outputId": "f95ccaa0-7159-4839-a08d-cd9050024f21"
      },
      "execution_count": null,
      "outputs": [
        {
          "output_type": "stream",
          "name": "stdout",
          "text": [
            "0    1\n",
            "1    2\n",
            "2    3\n",
            "5    6\n",
            "6    7\n",
            "7    8\n",
            "dtype: int64\n"
          ]
        }
      ]
    },
    {
      "cell_type": "code",
      "source": [
        "ser = pd.Series(np.random.normal(10, 5, 25))\n",
        "\n",
        "result = np.percentile(ser, q=[0, 25, 50, 75, 100])\n",
        "print(\"\\nMinimum, 25th percentile, median, 75th, and maximum of a given series:\")\n",
        "print(result)"
      ],
      "metadata": {
        "colab": {
          "base_uri": "https://localhost:8080/"
        },
        "id": "vPdA6beRLQam",
        "outputId": "1fd6d735-106a-471f-db08-ece9c01fede6"
      },
      "execution_count": null,
      "outputs": [
        {
          "output_type": "stream",
          "name": "stdout",
          "text": [
            "\n",
            "Minimum, 25th percentile, median, 75th, and maximum of a given series:\n",
            "[ 1.48683553  6.48808456 10.26005679 12.49496658 24.90588727]\n"
          ]
        }
      ]
    },
    {
      "cell_type": "code",
      "source": [
        "ser = pd.Series(np.take(list('abcdefgh'), np.random.randint(8, size=30)))\n",
        "\n",
        "print(ser.value_counts())"
      ],
      "metadata": {
        "colab": {
          "base_uri": "https://localhost:8080/"
        },
        "id": "gfgBTUKvLzx6",
        "outputId": "2100b471-ae24-4713-c8fc-995bd6ce0827"
      },
      "execution_count": null,
      "outputs": [
        {
          "output_type": "stream",
          "name": "stdout",
          "text": [
            "f    8\n",
            "g    4\n",
            "d    4\n",
            "e    4\n",
            "a    3\n",
            "c    3\n",
            "h    2\n",
            "b    2\n",
            "dtype: int64\n"
          ]
        }
      ]
    },
    {
      "cell_type": "code",
      "source": [
        "np.random.RandomState(100)\n",
        "ser = pd.Series(np.random.randint(1, 5, [12]))\n",
        "\n",
        "print(\"Топ 2:\", ser.value_counts())\n",
        "ser[~ser.isin(ser.value_counts().index[:2])] = \"Прочее\"\n",
        "print(\"\\n\")\n",
        "print(ser)"
      ],
      "metadata": {
        "colab": {
          "base_uri": "https://localhost:8080/"
        },
        "id": "lDwnlYxeMMq_",
        "outputId": "0cd753d5-43c0-40ba-f201-26e926837e03"
      },
      "execution_count": null,
      "outputs": [
        {
          "output_type": "stream",
          "name": "stdout",
          "text": [
            "Топ 2: 3    5\n",
            "2    3\n",
            "4    3\n",
            "1    1\n",
            "dtype: int64\n",
            "\n",
            "\n",
            "0     Прочее\n",
            "1          2\n",
            "2          3\n",
            "3     Прочее\n",
            "4          3\n",
            "5          3\n",
            "6          2\n",
            "7          3\n",
            "8     Прочее\n",
            "9          2\n",
            "10    Прочее\n",
            "11         3\n",
            "dtype: object\n"
          ]
        }
      ]
    },
    {
      "cell_type": "code",
      "source": [
        "ser = pd.Series(np.random.random(20))\n",
        "\n",
        "print(ser.head())\n",
        "print(\"\\n\")\n",
        "pd.qcut(ser,q=[0,.10,.20,.30,.40,.50,.60,.70,.80,.90,1],labels=['1','2','3','4','5','6','7','8','9','10']).head()"
      ],
      "metadata": {
        "colab": {
          "base_uri": "https://localhost:8080/"
        },
        "id": "CvuHyN0eNVE2",
        "outputId": "12c92465-f850-4d86-e8d5-e4a9ed39446e"
      },
      "execution_count": null,
      "outputs": [
        {
          "output_type": "stream",
          "name": "stdout",
          "text": [
            "0    0.153801\n",
            "1    0.071990\n",
            "2    0.720349\n",
            "3    0.957589\n",
            "4    0.538270\n",
            "dtype: float64\n",
            "\n",
            "\n"
          ]
        },
        {
          "output_type": "execute_result",
          "data": {
            "text/plain": [
              "0     2\n",
              "1     1\n",
              "2     9\n",
              "3    10\n",
              "4     7\n",
              "dtype: category\n",
              "Categories (10, object): ['1' < '2' < '3' < '4' ... '7' < '8' < '9' < '10']"
            ]
          },
          "metadata": {},
          "execution_count": 36
        }
      ]
    },
    {
      "cell_type": "code",
      "source": [
        "ser = pd.Series(np.random.randint(1, 10, 35))\n",
        "\n",
        "df=pd.DataFrame(ser.values.reshape(7,5))\n",
        "print(df)"
      ],
      "metadata": {
        "colab": {
          "base_uri": "https://localhost:8080/"
        },
        "id": "7HyJgy2cQik5",
        "outputId": "054b26cc-7004-4d4c-8473-fb5174323e92"
      },
      "execution_count": null,
      "outputs": [
        {
          "output_type": "stream",
          "name": "stdout",
          "text": [
            "   0  1  2  3  4\n",
            "0  3  9  7  9  4\n",
            "1  8  5  6  5  8\n",
            "2  4  7  5  7  8\n",
            "3  7  6  1  5  8\n",
            "4  4  7  7  7  9\n",
            "5  4  2  6  8  6\n",
            "6  6  4  7  3  4\n"
          ]
        }
      ]
    },
    {
      "cell_type": "code",
      "source": [
        "ser = pd.Series(np.random.randint(1, 10, 7))\n",
        "\n",
        "res= ser[ser % 3 == 0].index\n",
        "print(res)"
      ],
      "metadata": {
        "colab": {
          "base_uri": "https://localhost:8080/"
        },
        "id": "BPzrrGyYQ5Pj",
        "outputId": "28c81dfa-3cc0-44ab-d5d7-95bb934a9e0e"
      },
      "execution_count": null,
      "outputs": [
        {
          "output_type": "stream",
          "name": "stdout",
          "text": [
            "Int64Index([0, 1, 6], dtype='int64')\n"
          ]
        }
      ]
    },
    {
      "cell_type": "code",
      "source": [
        "ser = pd.Series(list('abcdefghijklmnopqrstuvwxyz'))\n",
        "pos = [0, 4, 8, 14, 20]\n",
        "\n",
        "res = ser.take(pos)\n",
        "print(res)"
      ],
      "metadata": {
        "colab": {
          "base_uri": "https://localhost:8080/"
        },
        "id": "rb3p_-X8RWWh",
        "outputId": "da268a02-4797-4e17-d7ca-96cc28d240f6"
      },
      "execution_count": null,
      "outputs": [
        {
          "output_type": "stream",
          "name": "stdout",
          "text": [
            "0     a\n",
            "4     e\n",
            "8     i\n",
            "14    o\n",
            "20    u\n",
            "dtype: object\n"
          ]
        }
      ]
    },
    {
      "cell_type": "code",
      "source": [
        "ser1 = pd.Series(range(5))\n",
        "ser2 = pd.Series(list('abcde'))\n",
        "\n",
        "res_vertical = ser1.append(ser2)\n",
        "res_horizontal = pd.concat([ser1, ser2], axis=1)\n",
        "\n",
        "print(res_vertical)\n",
        "print(\"\\n\")\n",
        "print(res_horizontal)"
      ],
      "metadata": {
        "colab": {
          "base_uri": "https://localhost:8080/"
        },
        "id": "f72RkhMMRrG-",
        "outputId": "2efabec0-8822-4466-f4cb-06c831a949f0"
      },
      "execution_count": null,
      "outputs": [
        {
          "output_type": "stream",
          "name": "stdout",
          "text": [
            "0    0\n",
            "1    1\n",
            "2    2\n",
            "3    3\n",
            "4    4\n",
            "0    a\n",
            "1    b\n",
            "2    c\n",
            "3    d\n",
            "4    e\n",
            "dtype: object\n",
            "\n",
            "\n",
            "   0  1\n",
            "0  0  a\n",
            "1  1  b\n",
            "2  2  c\n",
            "3  3  d\n",
            "4  4  e\n"
          ]
        },
        {
          "output_type": "stream",
          "name": "stderr",
          "text": [
            "<ipython-input-45-bf1f73fef59b>:4: FutureWarning: The series.append method is deprecated and will be removed from pandas in a future version. Use pandas.concat instead.\n",
            "  res_vertical = ser1.append(ser2)\n"
          ]
        }
      ]
    },
    {
      "cell_type": "code",
      "source": [
        "ser1 = pd.Series([10, 9, 6, 5, 3, 1, 12, 8, 13])\n",
        "ser2 = pd.Series([1, 3, 10, 13])\n",
        "\n",
        "[np.where(i==ser1)[0].tolist()[0] for i in ser2]\n",
        "[pd.Index(ser1).get_loc(i) for i in ser2]"
      ],
      "metadata": {
        "colab": {
          "base_uri": "https://localhost:8080/"
        },
        "id": "JCwpWxRVSFW1",
        "outputId": "e12b7f96-ed9a-46a1-df5b-e0c3160a772e"
      },
      "execution_count": null,
      "outputs": [
        {
          "output_type": "execute_result",
          "data": {
            "text/plain": [
              "[5, 4, 0, 8]"
            ]
          },
          "metadata": {},
          "execution_count": 50
        }
      ]
    },
    {
      "cell_type": "code",
      "source": [
        "truth = pd.Series(range(10))\n",
        "pred = pd.Series(range(10)) + np.random.random(10)\n",
        "\n",
        "np.mean((truth-pred)**2)"
      ],
      "metadata": {
        "colab": {
          "base_uri": "https://localhost:8080/"
        },
        "id": "kUHebJ_NUptr",
        "outputId": "e54179a0-2964-4f72-95c0-ec6593dc175c"
      },
      "execution_count": null,
      "outputs": [
        {
          "output_type": "execute_result",
          "data": {
            "text/plain": [
              "0.22096596139845848"
            ]
          },
          "metadata": {},
          "execution_count": 52
        }
      ]
    },
    {
      "cell_type": "code",
      "source": [
        "ser = pd.Series(['how', 'to', 'kick', 'ass?'])\n",
        "\n",
        "newser=ser.map(lambda x: x.title())\n",
        "print(newser)"
      ],
      "metadata": {
        "colab": {
          "base_uri": "https://localhost:8080/"
        },
        "id": "atKa0gesU_jb",
        "outputId": "a910265c-0b95-47c1-f633-034eebeff682"
      },
      "execution_count": null,
      "outputs": [
        {
          "output_type": "stream",
          "name": "stdout",
          "text": [
            "0     How\n",
            "1      To\n",
            "2    Kick\n",
            "3    Ass?\n",
            "dtype: object\n"
          ]
        }
      ]
    },
    {
      "cell_type": "code",
      "source": [
        "ser = pd.Series(['how', 'to', 'kick', 'ass?'])\n",
        "\n",
        "res = ser.map(lambda calc: len(calc))\n",
        "print(res)"
      ],
      "metadata": {
        "colab": {
          "base_uri": "https://localhost:8080/"
        },
        "id": "zthCiy8BWF3E",
        "outputId": "9d36a570-fe1f-48d2-b630-ad2cca5d8100"
      },
      "execution_count": null,
      "outputs": [
        {
          "output_type": "stream",
          "name": "stdout",
          "text": [
            "0    3\n",
            "1    2\n",
            "2    4\n",
            "3    4\n",
            "dtype: int64\n"
          ]
        }
      ]
    },
    {
      "cell_type": "code",
      "source": [
        "ser = pd.Series([1, 3, 6, 10, 15, 21, 27, 35])\n",
        "\n",
        "print(ser.diff())"
      ],
      "metadata": {
        "colab": {
          "base_uri": "https://localhost:8080/"
        },
        "id": "sA5vscfuWWGX",
        "outputId": "e838aa95-2452-4b37-8730-ce400d0d7fc0"
      },
      "execution_count": null,
      "outputs": [
        {
          "output_type": "stream",
          "name": "stdout",
          "text": [
            "0    NaN\n",
            "1    2.0\n",
            "2    3.0\n",
            "3    4.0\n",
            "4    5.0\n",
            "5    6.0\n",
            "6    6.0\n",
            "7    8.0\n",
            "dtype: float64\n"
          ]
        }
      ]
    },
    {
      "cell_type": "code",
      "source": [
        "ser = pd.Series(['01 Jan 2010', '02-02-2011', '20120303', '2013/04/04', '2014-05-05', '2015-06-06T12:20'])\n",
        "\n",
        "res = pd.to_datetime(ser)\n",
        "print(res)"
      ],
      "metadata": {
        "colab": {
          "base_uri": "https://localhost:8080/"
        },
        "id": "MpJWg7_MW-Ds",
        "outputId": "02c54f7b-96f0-402f-a393-84b4fa32c719"
      },
      "execution_count": null,
      "outputs": [
        {
          "output_type": "stream",
          "name": "stdout",
          "text": [
            "0   2010-01-01 00:00:00\n",
            "1   2011-02-02 00:00:00\n",
            "2   2012-03-03 00:00:00\n",
            "3   2013-04-04 00:00:00\n",
            "4   2014-05-05 00:00:00\n",
            "5   2015-06-06 12:20:00\n",
            "dtype: datetime64[ns]\n"
          ]
        }
      ]
    },
    {
      "cell_type": "code",
      "source": [
        "ser = pd.Series(['01 Jan 2010', '02-02-2011', '20120303', '2013/04/04', '2014-05-05', '2015-06-06T12:20'])\n",
        "\n",
        "from dateutil.parser import parse\n",
        "res = ser.map(lambda x: parse(x))\n",
        "print(\"Day of month:\")\n",
        "print(res.dt.day.tolist())\n",
        "print(\"Day of year:\")\n",
        "print(res.dt.dayofyear.tolist())\n",
        "print(\"Week number:\")\n",
        "print(res.dt.weekofyear.tolist())\n",
        "print(\"Day of week:\")\n",
        "print(list(res.dt.day_name()))"
      ],
      "metadata": {
        "colab": {
          "base_uri": "https://localhost:8080/"
        },
        "id": "yVsBWkY-l0mr",
        "outputId": "01b70d8f-1083-4695-a9f8-214a0a5a9c64"
      },
      "execution_count": null,
      "outputs": [
        {
          "output_type": "stream",
          "name": "stdout",
          "text": [
            "Day of month:\n",
            "[1, 2, 3, 4, 5, 6]\n",
            "Day of year:\n",
            "[1, 33, 63, 94, 125, 157]\n",
            "Week number:\n",
            "[53, 5, 9, 14, 19, 23]\n",
            "Day of week:\n",
            "['Friday', 'Wednesday', 'Saturday', 'Thursday', 'Monday', 'Saturday']\n"
          ]
        },
        {
          "output_type": "stream",
          "name": "stderr",
          "text": [
            "<ipython-input-79-d2f430d34987>:10: FutureWarning: Series.dt.weekofyear and Series.dt.week have been deprecated. Please use Series.dt.isocalendar().week instead.\n",
            "  print(res.dt.weekofyear.tolist())\n"
          ]
        }
      ]
    },
    {
      "cell_type": "code",
      "source": [
        "ser = pd.Series(['Jan 2010', 'Feb 2011', 'Mar 2012'])\n",
        "\n",
        "print(pd.to_datetime(ser).apply(lambda x: x.replace(day=4)))"
      ],
      "metadata": {
        "colab": {
          "base_uri": "https://localhost:8080/"
        },
        "id": "bnk_AHItpJ6f",
        "outputId": "7530d48d-be7a-4375-bfbf-28c7b10284c8"
      },
      "execution_count": null,
      "outputs": [
        {
          "output_type": "stream",
          "name": "stdout",
          "text": [
            "0   2010-01-04\n",
            "1   2011-02-04\n",
            "2   2012-03-04\n",
            "dtype: datetime64[ns]\n"
          ]
        }
      ]
    },
    {
      "cell_type": "code",
      "source": [
        "ser = pd.Series(['Apple', 'Orange', 'Plan', 'Python', 'Money'])\n",
        "\n",
        "from collections import Counter\n",
        "\n",
        "mask = ser.map(lambda x: sum([Counter(x.lower()).get(i, 0) for i in list('aeiouаоиеёэыуюя')]) >= 2)\n",
        "res = ser[mask]\n",
        "print(res)"
      ],
      "metadata": {
        "colab": {
          "base_uri": "https://localhost:8080/"
        },
        "id": "daM5Q4eqsjEK",
        "outputId": "14e1e98b-ab6f-4abd-de59-ddbfeb1b0de5"
      },
      "execution_count": null,
      "outputs": [
        {
          "output_type": "stream",
          "name": "stdout",
          "text": [
            "0     Apple\n",
            "1    Orange\n",
            "4     Money\n",
            "dtype: object\n"
          ]
        }
      ]
    },
    {
      "cell_type": "code",
      "source": [
        "emails = pd.Series(['buying books at amazom.com', 'rameses@egypt.com', 'matt@t.co', 'narendra@modi.com'])\n",
        "pattern ='[A-Za-z0-9._%+-]+@[A-Za-z0-9.-]+\\\\.[A-Za-z]{2,4}'\n",
        "\n",
        "import re\n",
        "mask = emails.map(lambda x: bool(re.match(pattern, x)))\n",
        "res = emails[mask]\n",
        "print(res)"
      ],
      "metadata": {
        "colab": {
          "base_uri": "https://localhost:8080/"
        },
        "id": "wBtLzRKytgj9",
        "outputId": "b0626655-61db-444b-ee64-a28b3edb9c4d"
      },
      "execution_count": null,
      "outputs": [
        {
          "output_type": "stream",
          "name": "stdout",
          "text": [
            "1    rameses@egypt.com\n",
            "2            matt@t.co\n",
            "3    narendra@modi.com\n",
            "dtype: object\n"
          ]
        }
      ]
    },
    {
      "cell_type": "code",
      "source": [
        "fruit = pd.Series(np.random.choice(['apple', 'banana', 'carrot'], 10))\n",
        "weights = pd.Series(np.linspace(1, 10, 10))\n",
        "print(weights.tolist())\n",
        "print(fruit.tolist())\n",
        "print(\"\\n\")\n",
        "\n",
        "weights.groupby(fruit).mean()"
      ],
      "metadata": {
        "colab": {
          "base_uri": "https://localhost:8080/"
        },
        "id": "7NZr1JDrupRU",
        "outputId": "4b1188cb-445e-42f6-d8c7-65e9d6586f0c"
      },
      "execution_count": null,
      "outputs": [
        {
          "output_type": "stream",
          "name": "stdout",
          "text": [
            "[1.0, 2.0, 3.0, 4.0, 5.0, 6.0, 7.0, 8.0, 9.0, 10.0]\n",
            "['carrot', 'apple', 'banana', 'carrot', 'carrot', 'carrot', 'apple', 'carrot', 'carrot', 'banana']\n",
            "\n",
            "\n"
          ]
        },
        {
          "output_type": "execute_result",
          "data": {
            "text/plain": [
              "apple     4.5\n",
              "banana    6.5\n",
              "carrot    5.5\n",
              "dtype: float64"
            ]
          },
          "metadata": {},
          "execution_count": 88
        }
      ]
    },
    {
      "cell_type": "code",
      "source": [
        "p = pd.Series([1, 2, 3, 4, 5, 6, 7, 8, 9, 10])\n",
        "q = pd.Series([10, 9, 8, 7, 6, 5, 4, 3, 2, 1])\n",
        "\n",
        "res = sum((p-q)**2)**0.5\n",
        "print(res)"
      ],
      "metadata": {
        "colab": {
          "base_uri": "https://localhost:8080/"
        },
        "id": "Qyuk3R8-vtQh",
        "outputId": "478c7fc3-f439-467d-d8e9-a89c5ceed2da"
      },
      "execution_count": null,
      "outputs": [
        {
          "output_type": "stream",
          "name": "stdout",
          "text": [
            "18.16590212458495\n"
          ]
        }
      ]
    },
    {
      "cell_type": "code",
      "source": [
        "ser = pd.Series([2, 10, 3, 4, 9, 10, 2, 7, 3])\n",
        "\n",
        "dd = np.diff(np.sign(np.diff(ser)))\n",
        "peak_locs = np.where(dd == -2)[0] + 1\n",
        "peak_locs"
      ],
      "metadata": {
        "colab": {
          "base_uri": "https://localhost:8080/"
        },
        "id": "4lu7KPnfwDlg",
        "outputId": "fd668a90-ba24-42cb-a3b5-16009de8e4ff"
      },
      "execution_count": null,
      "outputs": [
        {
          "output_type": "execute_result",
          "data": {
            "text/plain": [
              "array([1, 5, 7])"
            ]
          },
          "metadata": {},
          "execution_count": 90
        }
      ]
    },
    {
      "cell_type": "code",
      "source": [
        "my_str = 'dbc deb abed gade'\n",
        "\n",
        "ser = pd.Series(list('dbc deb abed gade'))\n",
        "freq = ser.value_counts()\n",
        "least_freq = freq.dropna().index[-1]\n",
        "''.join(ser.replace(' ', least_freq))"
      ],
      "metadata": {
        "colab": {
          "base_uri": "https://localhost:8080/",
          "height": 35
        },
        "id": "CpFRJafpwl_m",
        "outputId": "ae06effc-0b27-4c40-8ed2-b8c2dde3f9ee"
      },
      "execution_count": null,
      "outputs": [
        {
          "output_type": "execute_result",
          "data": {
            "text/plain": [
              "'dbcgdebgabedggade'"
            ],
            "application/vnd.google.colaboratory.intrinsic+json": {
              "type": "string"
            }
          },
          "metadata": {},
          "execution_count": 126
        }
      ]
    },
    {
      "cell_type": "code",
      "source": [
        "ser = pd.Series(np.random.randint(1,10,10), pd.date_range('2000-01-01', periods=10, freq='W-SAT'))\n",
        "ser"
      ],
      "metadata": {
        "colab": {
          "base_uri": "https://localhost:8080/"
        },
        "id": "J9nPLFaPxw3_",
        "outputId": "f8681986-4151-4aa4-d365-fe6efdeac760"
      },
      "execution_count": null,
      "outputs": [
        {
          "output_type": "execute_result",
          "data": {
            "text/plain": [
              "2000-01-01    1\n",
              "2000-01-08    2\n",
              "2000-01-15    9\n",
              "2000-01-22    7\n",
              "2000-01-29    7\n",
              "2000-02-05    3\n",
              "2000-02-12    1\n",
              "2000-02-19    5\n",
              "2000-02-26    9\n",
              "2000-03-04    3\n",
              "Freq: W-SAT, dtype: int64"
            ]
          },
          "metadata": {},
          "execution_count": 104
        }
      ]
    },
    {
      "cell_type": "code",
      "source": [
        "ser = pd.Series([1,10,3,np.nan], index=pd.to_datetime(['2000-01-01', '2000-01-03', '2000-01-06', '2000-01-08']))\n",
        "print(ser)\n",
        "\n",
        "print(\"\\n\")\n",
        "ser=ser.resample('D').ffill()  # fill with previous value\n",
        "ser=ser.resample('D').bfill()  # fill with previous value\n",
        "print(ser)"
      ],
      "metadata": {
        "colab": {
          "base_uri": "https://localhost:8080/"
        },
        "id": "8yigAGyrw7tl",
        "outputId": "9f3c5482-85e6-4e13-afcc-c3fcf40dfc73"
      },
      "execution_count": null,
      "outputs": [
        {
          "output_type": "stream",
          "name": "stdout",
          "text": [
            "2000-01-01     1.0\n",
            "2000-01-03    10.0\n",
            "2000-01-06     3.0\n",
            "2000-01-08     NaN\n",
            "dtype: float64\n",
            "\n",
            "\n",
            "2000-01-01     1.0\n",
            "2000-01-02     1.0\n",
            "2000-01-03    10.0\n",
            "2000-01-04    10.0\n",
            "2000-01-05    10.0\n",
            "2000-01-06     3.0\n",
            "2000-01-07     3.0\n",
            "2000-01-08     NaN\n",
            "Freq: D, dtype: float64\n"
          ]
        }
      ]
    },
    {
      "cell_type": "code",
      "source": [
        "ser = pd.Series(np.arange(20) + np.random.normal(1, 10, 20))\n",
        "\n",
        "autocorr = [ser.autocorr(lag=i).round(2) for i in range(20)]\n",
        "print(autocorr)\n",
        "print('Наиб. корреляция: ', np.argmax(np.abs(autocorr[1:]))+1)"
      ],
      "metadata": {
        "colab": {
          "base_uri": "https://localhost:8080/"
        },
        "id": "nJk7RC0dyy31",
        "outputId": "94239fac-1c9e-423d-e232-b2d731db772b"
      },
      "execution_count": null,
      "outputs": [
        {
          "output_type": "stream",
          "name": "stdout",
          "text": [
            "[1.0, -0.08, -0.1, 0.37, 0.06, -0.15, 0.28, -0.14, -0.2, 0.29, -0.14, -0.5, 0.06, -0.14, -0.09, 0.66, -0.78, 0.74, -1.0, nan]\n",
            "Наиб. корреляция:  19\n"
          ]
        },
        {
          "output_type": "stream",
          "name": "stderr",
          "text": [
            "/usr/local/lib/python3.10/dist-packages/numpy/lib/function_base.py:2845: RuntimeWarning: Degrees of freedom <= 0 for slice\n",
            "  c = cov(x, y, rowvar, dtype=dtype)\n",
            "/usr/local/lib/python3.10/dist-packages/numpy/lib/function_base.py:2704: RuntimeWarning: divide by zero encountered in divide\n",
            "  c *= np.true_divide(1, fact)\n"
          ]
        }
      ]
    },
    {
      "cell_type": "code",
      "source": [
        "df = pd.read_csv('https://raw.githubusercontent.com/selva86/datasets/master/BostonHousing.csv', chunksize=50)\n",
        "df2 = pd.concat([chunk.iloc[0] for chunk in df], axis=1)\n",
        "df2 = df2.transpose()\n",
        "print(df2.head())"
      ],
      "metadata": {
        "colab": {
          "base_uri": "https://localhost:8080/"
        },
        "id": "qVTY4Ginztt0",
        "outputId": "f50647e6-84df-4402-919e-b7315f0413fa"
      },
      "execution_count": null,
      "outputs": [
        {
          "output_type": "stream",
          "name": "stdout",
          "text": [
            "        crim    zn  indus  chas    nox     rm   age     dis  rad    tax  \\\n",
            "0    0.00632  18.0   2.31   0.0  0.538  6.575  65.2  4.0900  1.0  296.0   \n",
            "50   0.08873  21.0   5.64   0.0  0.439  5.963  45.7  6.8147  4.0  243.0   \n",
            "100  0.14866   0.0   8.56   0.0  0.520  6.727  79.9  2.7778  5.0  384.0   \n",
            "150  1.65660   0.0  19.58   0.0  0.871  6.122  97.3  1.6180  5.0  403.0   \n",
            "200  0.01778  95.0   1.47   0.0  0.403  7.135  13.9  7.6534  3.0  402.0   \n",
            "\n",
            "     ptratio       b  lstat  medv  \n",
            "0       15.3  396.90   4.98  24.0  \n",
            "50      16.8  395.56  13.45  19.7  \n",
            "100     20.9  394.76   9.42  27.5  \n",
            "150     14.7  372.80  14.10  21.5  \n",
            "200     17.0  384.30   4.45  32.9  \n"
          ]
        }
      ]
    },
    {
      "cell_type": "code",
      "source": [
        "df = pd.read_csv('https://raw.githubusercontent.com/selva86/datasets/master/BostonHousing.csv', converters={'medv': lambda x: 'High' if float(x) > 25 else 'Low'})\n",
        "print(df.head())"
      ],
      "metadata": {
        "colab": {
          "base_uri": "https://localhost:8080/"
        },
        "id": "9RtwyaDB0Lvh",
        "outputId": "1143a07d-4b49-471e-e98d-2ee8fc956238"
      },
      "execution_count": null,
      "outputs": [
        {
          "output_type": "stream",
          "name": "stdout",
          "text": [
            "      crim    zn  indus  chas    nox     rm   age     dis  rad  tax  ptratio  \\\n",
            "0  0.00632  18.0   2.31     0  0.538  6.575  65.2  4.0900    1  296     15.3   \n",
            "1  0.02731   0.0   7.07     0  0.469  6.421  78.9  4.9671    2  242     17.8   \n",
            "2  0.02729   0.0   7.07     0  0.469  7.185  61.1  4.9671    2  242     17.8   \n",
            "3  0.03237   0.0   2.18     0  0.458  6.998  45.8  6.0622    3  222     18.7   \n",
            "4  0.06905   0.0   2.18     0  0.458  7.147  54.2  6.0622    3  222     18.7   \n",
            "\n",
            "        b  lstat  medv  \n",
            "0  396.90   4.98   Low  \n",
            "1  396.90   9.14   Low  \n",
            "2  392.83   4.03  High  \n",
            "3  394.63   2.94  High  \n",
            "4  396.90   5.33  High  \n"
          ]
        }
      ]
    },
    {
      "cell_type": "code",
      "source": [
        "L = pd.Series(range(15))\n",
        "\n",
        "def gen_strides(a, stride_len=5, window_len=5):\n",
        "    n_strides = ((a.size-window_len)//stride_len) + 1\n",
        "    return np.array([a[s:(s+window_len)] for s in np.arange(0, a.size, stride_len)[:n_strides]])\n",
        "\n",
        "gen_strides(L, stride_len=2, window_len=4)"
      ],
      "metadata": {
        "colab": {
          "base_uri": "https://localhost:8080/"
        },
        "id": "fkPZD6NJ0gX0",
        "outputId": "046fcb55-cf8b-434c-e507-2722cf9f38e1"
      },
      "execution_count": null,
      "outputs": [
        {
          "output_type": "execute_result",
          "data": {
            "text/plain": [
              "array([[ 0,  1,  2,  3],\n",
              "       [ 2,  3,  4,  5],\n",
              "       [ 4,  5,  6,  7],\n",
              "       [ 6,  7,  8,  9],\n",
              "       [ 8,  9, 10, 11],\n",
              "       [10, 11, 12, 13]])"
            ]
          },
          "metadata": {},
          "execution_count": 127
        }
      ]
    },
    {
      "cell_type": "code",
      "source": [
        "df = pd.read_csv('https://raw.githubusercontent.com/selva86/datasets/master/BostonHousing.csv', usecols=['crim', 'medv'])\n",
        "print(df.head())"
      ],
      "metadata": {
        "colab": {
          "base_uri": "https://localhost:8080/"
        },
        "id": "fW9aSqOe10ZQ",
        "outputId": "9da813e1-b32a-481d-c80d-58015415fa04"
      },
      "execution_count": null,
      "outputs": [
        {
          "output_type": "stream",
          "name": "stdout",
          "text": [
            "      crim  medv\n",
            "0  0.00632  24.0\n",
            "1  0.02731  21.6\n",
            "2  0.02729  34.7\n",
            "3  0.03237  33.4\n",
            "4  0.06905  36.2\n"
          ]
        }
      ]
    },
    {
      "cell_type": "code",
      "source": [
        "df = pd.read_csv('https://raw.githubusercontent.com/selva86/datasets/master/Cars93_miss.csv')\n",
        "\n",
        "print(df.shape)\n",
        "\n",
        "print(df.dtypes)\n",
        "\n",
        "print(df.dtypes.value_counts())\n",
        "\n",
        "df_stats = df.describe()\n",
        "\n",
        "df_arr = df.values\n",
        "\n",
        "df_list = df.values.tolist()"
      ],
      "metadata": {
        "colab": {
          "base_uri": "https://localhost:8080/"
        },
        "id": "Osdz_t2p14oJ",
        "outputId": "eb9ef4e2-2744-4201-fce6-f5e87fbc029c"
      },
      "execution_count": null,
      "outputs": [
        {
          "output_type": "stream",
          "name": "stdout",
          "text": [
            "(93, 27)\n",
            "Manufacturer           object\n",
            "Model                  object\n",
            "Type                   object\n",
            "Min.Price             float64\n",
            "Price                 float64\n",
            "Max.Price             float64\n",
            "MPG.city              float64\n",
            "MPG.highway           float64\n",
            "AirBags                object\n",
            "DriveTrain             object\n",
            "Cylinders              object\n",
            "EngineSize            float64\n",
            "Horsepower            float64\n",
            "RPM                   float64\n",
            "Rev.per.mile          float64\n",
            "Man.trans.avail        object\n",
            "Fuel.tank.capacity    float64\n",
            "Passengers            float64\n",
            "Length                float64\n",
            "Wheelbase             float64\n",
            "Width                 float64\n",
            "Turn.circle           float64\n",
            "Rear.seat.room        float64\n",
            "Luggage.room          float64\n",
            "Weight                float64\n",
            "Origin                 object\n",
            "Make                   object\n",
            "dtype: object\n",
            "float64    18\n",
            "object      9\n",
            "dtype: int64\n"
          ]
        }
      ]
    },
    {
      "cell_type": "code",
      "source": [
        "df = pd.read_csv('https://raw.githubusercontent.com/selva86/datasets/master/Cars93_miss.csv')\n",
        "\n",
        "print(df.loc[df.Price == np.max(df.Price), ['Manufacturer', 'Model', 'Type']])\n",
        "row, col = np.where(df.values == np.max(df.Price))\n",
        "print(df.iat[row[0], col[0]])\n",
        "print(df.iloc[row[0], col[0]])"
      ],
      "metadata": {
        "colab": {
          "base_uri": "https://localhost:8080/"
        },
        "id": "lhWADkLjQfYO",
        "outputId": "7ff2faf4-2151-4afe-f834-396eb761f5f3"
      },
      "execution_count": null,
      "outputs": [
        {
          "output_type": "stream",
          "name": "stdout",
          "text": [
            "     Manufacturer Model     Type\n",
            "58  Mercedes-Benz  300E  Midsize\n",
            "61.9\n"
          ]
        }
      ]
    },
    {
      "cell_type": "code",
      "source": [
        "df = pd.read_csv('https://raw.githubusercontent.com/selva86/datasets/master/Cars93_miss.csv')\n",
        "print(df.columns)\n",
        "\n",
        "df=df.rename(columns = {'Type':'CarType'})\n",
        "df.columns = df.columns.map(lambda x: x.replace('.', '_'))\n",
        "print(df.columns)"
      ],
      "metadata": {
        "colab": {
          "base_uri": "https://localhost:8080/"
        },
        "id": "15ZQ7mz8UkKc",
        "outputId": "73dbf516-544d-4c77-b4ec-fd53a26bcdad"
      },
      "execution_count": null,
      "outputs": [
        {
          "output_type": "stream",
          "name": "stdout",
          "text": [
            "Index(['Manufacturer', 'Model', 'Type', 'Min.Price', 'Price', 'Max.Price',\n",
            "       'MPG.city', 'MPG.highway', 'AirBags', 'DriveTrain', 'Cylinders',\n",
            "       'EngineSize', 'Horsepower', 'RPM', 'Rev.per.mile', 'Man.trans.avail',\n",
            "       'Fuel.tank.capacity', 'Passengers', 'Length', 'Wheelbase', 'Width',\n",
            "       'Turn.circle', 'Rear.seat.room', 'Luggage.room', 'Weight', 'Origin',\n",
            "       'Make'],\n",
            "      dtype='object')\n",
            "Index(['Manufacturer', 'Model', 'CarType', 'Min_Price', 'Price', 'Max_Price',\n",
            "       'MPG_city', 'MPG_highway', 'AirBags', 'DriveTrain', 'Cylinders',\n",
            "       'EngineSize', 'Horsepower', 'RPM', 'Rev_per_mile', 'Man_trans_avail',\n",
            "       'Fuel_tank_capacity', 'Passengers', 'Length', 'Wheelbase', 'Width',\n",
            "       'Turn_circle', 'Rear_seat_room', 'Luggage_room', 'Weight', 'Origin',\n",
            "       'Make'],\n",
            "      dtype='object')\n"
          ]
        }
      ]
    },
    {
      "cell_type": "code",
      "source": [
        "df = pd.read_csv('https://raw.githubusercontent.com/selva86/datasets/master/Cars93_miss.csv')\n",
        "\n",
        "df.isnull().values.any()"
      ],
      "metadata": {
        "colab": {
          "base_uri": "https://localhost:8080/"
        },
        "id": "zWGSz1lNVlDf",
        "outputId": "0e046118-b5dc-483d-eef3-f5378bc99a13"
      },
      "execution_count": null,
      "outputs": [
        {
          "output_type": "execute_result",
          "data": {
            "text/plain": [
              "True"
            ]
          },
          "metadata": {},
          "execution_count": 9
        }
      ]
    },
    {
      "cell_type": "code",
      "source": [
        "df = pd.read_csv('https://raw.githubusercontent.com/selva86/datasets/master/Cars93_miss.csv')\n",
        "\n",
        "n_missings_each_col = df.apply(lambda x: x.isnull().sum())\n",
        "print(n_missings_each_col.argmax())\n",
        "print(df.apply(lambda x: x.isnull().sum()).idxmax())"
      ],
      "metadata": {
        "colab": {
          "base_uri": "https://localhost:8080/"
        },
        "id": "vjkp-Zs5Vppv",
        "outputId": "36dd7bb2-96f9-4b86-85b1-289b81f97c14"
      },
      "execution_count": null,
      "outputs": [
        {
          "output_type": "stream",
          "name": "stdout",
          "text": [
            "23\n",
            "Luggage.room\n"
          ]
        }
      ]
    },
    {
      "cell_type": "code",
      "source": [
        "df = pd.read_csv('https://raw.githubusercontent.com/selva86/datasets/master/Cars93_miss.csv')\n",
        "\n",
        "df_out = df[['Min.Price', 'Max.Price']] = df[['Min.Price', 'Max.Price']].apply(lambda x: x.fillna(x.mean()))\n",
        "print(df_out.head())"
      ],
      "metadata": {
        "colab": {
          "base_uri": "https://localhost:8080/"
        },
        "id": "wR8ygPdT4XfO",
        "outputId": "77be06e0-6022-4cd7-d246-e7949ee8ae42"
      },
      "execution_count": null,
      "outputs": [
        {
          "output_type": "stream",
          "name": "stdout",
          "text": [
            "   Min.Price  Max.Price\n",
            "0  12.900000  18.800000\n",
            "1  29.200000  38.700000\n",
            "2  25.900000  32.300000\n",
            "3  17.118605  44.600000\n",
            "4  17.118605  21.459091\n"
          ]
        }
      ]
    },
    {
      "cell_type": "code",
      "source": [
        "df = pd.read_csv('https://raw.githubusercontent.com/selva86/datasets/master/Cars93_miss.csv')\n",
        "\n",
        "d = {'Min.Price': np.nanmean, 'Max.Price': np.nanmedian}\n",
        "df_out = df[['Min.Price', 'Max.Price']] = df[['Min.Price', 'Max.Price']].apply(lambda x, d: x.fillna(d[x.name](x)), args=(d, ))\n",
        "print(df_out.head())"
      ],
      "metadata": {
        "colab": {
          "base_uri": "https://localhost:8080/"
        },
        "id": "CsHewRN9OOGE",
        "outputId": "f0863827-e552-4cbe-bdbf-e8510c7616cf"
      },
      "execution_count": null,
      "outputs": [
        {
          "output_type": "stream",
          "name": "stdout",
          "text": [
            "   Min.Price  Max.Price\n",
            "0  12.900000      18.80\n",
            "1  29.200000      38.70\n",
            "2  25.900000      32.30\n",
            "3  17.118605      44.60\n",
            "4  17.118605      19.15\n"
          ]
        }
      ]
    },
    {
      "cell_type": "code",
      "source": [
        "df = pd.DataFrame(np.arange(20).reshape(-1, 5), columns=list('abcde'))\n",
        "\n",
        "type(df[['a']])\n",
        "type(df.loc[:, ['a']])\n",
        "type(df.iloc[:, [0]])"
      ],
      "metadata": {
        "colab": {
          "base_uri": "https://localhost:8080/"
        },
        "id": "4-vOf0BaQ-dj",
        "outputId": "ae34b049-7194-4d6f-8401-7282dcf0147c"
      },
      "execution_count": null,
      "outputs": [
        {
          "output_type": "execute_result",
          "data": {
            "text/plain": [
              "pandas.core.frame.DataFrame"
            ]
          },
          "metadata": {},
          "execution_count": 7
        }
      ]
    },
    {
      "cell_type": "code",
      "source": [
        "df = pd.DataFrame(np.arange(20).reshape(-1, 5), columns=list('abcde'))\n",
        "\n",
        "df[list('cbade')]\n",
        "def switch_columns(df, col1=None, col2=None):\n",
        "    colnames = df.columns.tolist()\n",
        "    i1, i2 = colnames.index(col1), colnames.index(col2)\n",
        "    colnames[i2], colnames[i1] = colnames[i1], colnames[i2]\n",
        "    return df[colnames]\n",
        "df1 = switch_columns(df, 'a', 'c')\n",
        "df[sorted(df.columns)]"
      ],
      "metadata": {
        "colab": {
          "base_uri": "https://localhost:8080/",
          "height": 175
        },
        "id": "_7a64yCiRRIV",
        "outputId": "55cd02e8-806a-4673-aa0c-0b47559f1b01"
      },
      "execution_count": null,
      "outputs": [
        {
          "output_type": "execute_result",
          "data": {
            "text/plain": [
              "    a   b   c   d   e\n",
              "0   0   1   2   3   4\n",
              "1   5   6   7   8   9\n",
              "2  10  11  12  13  14\n",
              "3  15  16  17  18  19"
            ],
            "text/html": [
              "\n",
              "  <div id=\"df-72971d10-0cb8-4248-9835-2cd52870c6c0\" class=\"colab-df-container\">\n",
              "    <div>\n",
              "<style scoped>\n",
              "    .dataframe tbody tr th:only-of-type {\n",
              "        vertical-align: middle;\n",
              "    }\n",
              "\n",
              "    .dataframe tbody tr th {\n",
              "        vertical-align: top;\n",
              "    }\n",
              "\n",
              "    .dataframe thead th {\n",
              "        text-align: right;\n",
              "    }\n",
              "</style>\n",
              "<table border=\"1\" class=\"dataframe\">\n",
              "  <thead>\n",
              "    <tr style=\"text-align: right;\">\n",
              "      <th></th>\n",
              "      <th>a</th>\n",
              "      <th>b</th>\n",
              "      <th>c</th>\n",
              "      <th>d</th>\n",
              "      <th>e</th>\n",
              "    </tr>\n",
              "  </thead>\n",
              "  <tbody>\n",
              "    <tr>\n",
              "      <th>0</th>\n",
              "      <td>0</td>\n",
              "      <td>1</td>\n",
              "      <td>2</td>\n",
              "      <td>3</td>\n",
              "      <td>4</td>\n",
              "    </tr>\n",
              "    <tr>\n",
              "      <th>1</th>\n",
              "      <td>5</td>\n",
              "      <td>6</td>\n",
              "      <td>7</td>\n",
              "      <td>8</td>\n",
              "      <td>9</td>\n",
              "    </tr>\n",
              "    <tr>\n",
              "      <th>2</th>\n",
              "      <td>10</td>\n",
              "      <td>11</td>\n",
              "      <td>12</td>\n",
              "      <td>13</td>\n",
              "      <td>14</td>\n",
              "    </tr>\n",
              "    <tr>\n",
              "      <th>3</th>\n",
              "      <td>15</td>\n",
              "      <td>16</td>\n",
              "      <td>17</td>\n",
              "      <td>18</td>\n",
              "      <td>19</td>\n",
              "    </tr>\n",
              "  </tbody>\n",
              "</table>\n",
              "</div>\n",
              "    <div class=\"colab-df-buttons\">\n",
              "\n",
              "  <div class=\"colab-df-container\">\n",
              "    <button class=\"colab-df-convert\" onclick=\"convertToInteractive('df-72971d10-0cb8-4248-9835-2cd52870c6c0')\"\n",
              "            title=\"Convert this dataframe to an interactive table.\"\n",
              "            style=\"display:none;\">\n",
              "\n",
              "  <svg xmlns=\"http://www.w3.org/2000/svg\" height=\"24px\" viewBox=\"0 -960 960 960\">\n",
              "    <path d=\"M120-120v-720h720v720H120Zm60-500h600v-160H180v160Zm220 220h160v-160H400v160Zm0 220h160v-160H400v160ZM180-400h160v-160H180v160Zm440 0h160v-160H620v160ZM180-180h160v-160H180v160Zm440 0h160v-160H620v160Z\"/>\n",
              "  </svg>\n",
              "    </button>\n",
              "\n",
              "  <style>\n",
              "    .colab-df-container {\n",
              "      display:flex;\n",
              "      gap: 12px;\n",
              "    }\n",
              "\n",
              "    .colab-df-convert {\n",
              "      background-color: #E8F0FE;\n",
              "      border: none;\n",
              "      border-radius: 50%;\n",
              "      cursor: pointer;\n",
              "      display: none;\n",
              "      fill: #1967D2;\n",
              "      height: 32px;\n",
              "      padding: 0 0 0 0;\n",
              "      width: 32px;\n",
              "    }\n",
              "\n",
              "    .colab-df-convert:hover {\n",
              "      background-color: #E2EBFA;\n",
              "      box-shadow: 0px 1px 2px rgba(60, 64, 67, 0.3), 0px 1px 3px 1px rgba(60, 64, 67, 0.15);\n",
              "      fill: #174EA6;\n",
              "    }\n",
              "\n",
              "    .colab-df-buttons div {\n",
              "      margin-bottom: 4px;\n",
              "    }\n",
              "\n",
              "    [theme=dark] .colab-df-convert {\n",
              "      background-color: #3B4455;\n",
              "      fill: #D2E3FC;\n",
              "    }\n",
              "\n",
              "    [theme=dark] .colab-df-convert:hover {\n",
              "      background-color: #434B5C;\n",
              "      box-shadow: 0px 1px 3px 1px rgba(0, 0, 0, 0.15);\n",
              "      filter: drop-shadow(0px 1px 2px rgba(0, 0, 0, 0.3));\n",
              "      fill: #FFFFFF;\n",
              "    }\n",
              "  </style>\n",
              "\n",
              "    <script>\n",
              "      const buttonEl =\n",
              "        document.querySelector('#df-72971d10-0cb8-4248-9835-2cd52870c6c0 button.colab-df-convert');\n",
              "      buttonEl.style.display =\n",
              "        google.colab.kernel.accessAllowed ? 'block' : 'none';\n",
              "\n",
              "      async function convertToInteractive(key) {\n",
              "        const element = document.querySelector('#df-72971d10-0cb8-4248-9835-2cd52870c6c0');\n",
              "        const dataTable =\n",
              "          await google.colab.kernel.invokeFunction('convertToInteractive',\n",
              "                                                    [key], {});\n",
              "        if (!dataTable) return;\n",
              "\n",
              "        const docLinkHtml = 'Like what you see? Visit the ' +\n",
              "          '<a target=\"_blank\" href=https://colab.research.google.com/notebooks/data_table.ipynb>data table notebook</a>'\n",
              "          + ' to learn more about interactive tables.';\n",
              "        element.innerHTML = '';\n",
              "        dataTable['output_type'] = 'display_data';\n",
              "        await google.colab.output.renderOutput(dataTable, element);\n",
              "        const docLink = document.createElement('div');\n",
              "        docLink.innerHTML = docLinkHtml;\n",
              "        element.appendChild(docLink);\n",
              "      }\n",
              "    </script>\n",
              "  </div>\n",
              "\n",
              "\n",
              "<div id=\"df-8326a905-b79e-4f7f-9dd0-31f393d80fc3\">\n",
              "  <button class=\"colab-df-quickchart\" onclick=\"quickchart('df-8326a905-b79e-4f7f-9dd0-31f393d80fc3')\"\n",
              "            title=\"Suggest charts\"\n",
              "            style=\"display:none;\">\n",
              "\n",
              "<svg xmlns=\"http://www.w3.org/2000/svg\" height=\"24px\"viewBox=\"0 0 24 24\"\n",
              "     width=\"24px\">\n",
              "    <g>\n",
              "        <path d=\"M19 3H5c-1.1 0-2 .9-2 2v14c0 1.1.9 2 2 2h14c1.1 0 2-.9 2-2V5c0-1.1-.9-2-2-2zM9 17H7v-7h2v7zm4 0h-2V7h2v10zm4 0h-2v-4h2v4z\"/>\n",
              "    </g>\n",
              "</svg>\n",
              "  </button>\n",
              "\n",
              "<style>\n",
              "  .colab-df-quickchart {\n",
              "      --bg-color: #E8F0FE;\n",
              "      --fill-color: #1967D2;\n",
              "      --hover-bg-color: #E2EBFA;\n",
              "      --hover-fill-color: #174EA6;\n",
              "      --disabled-fill-color: #AAA;\n",
              "      --disabled-bg-color: #DDD;\n",
              "  }\n",
              "\n",
              "  [theme=dark] .colab-df-quickchart {\n",
              "      --bg-color: #3B4455;\n",
              "      --fill-color: #D2E3FC;\n",
              "      --hover-bg-color: #434B5C;\n",
              "      --hover-fill-color: #FFFFFF;\n",
              "      --disabled-bg-color: #3B4455;\n",
              "      --disabled-fill-color: #666;\n",
              "  }\n",
              "\n",
              "  .colab-df-quickchart {\n",
              "    background-color: var(--bg-color);\n",
              "    border: none;\n",
              "    border-radius: 50%;\n",
              "    cursor: pointer;\n",
              "    display: none;\n",
              "    fill: var(--fill-color);\n",
              "    height: 32px;\n",
              "    padding: 0;\n",
              "    width: 32px;\n",
              "  }\n",
              "\n",
              "  .colab-df-quickchart:hover {\n",
              "    background-color: var(--hover-bg-color);\n",
              "    box-shadow: 0 1px 2px rgba(60, 64, 67, 0.3), 0 1px 3px 1px rgba(60, 64, 67, 0.15);\n",
              "    fill: var(--button-hover-fill-color);\n",
              "  }\n",
              "\n",
              "  .colab-df-quickchart-complete:disabled,\n",
              "  .colab-df-quickchart-complete:disabled:hover {\n",
              "    background-color: var(--disabled-bg-color);\n",
              "    fill: var(--disabled-fill-color);\n",
              "    box-shadow: none;\n",
              "  }\n",
              "\n",
              "  .colab-df-spinner {\n",
              "    border: 2px solid var(--fill-color);\n",
              "    border-color: transparent;\n",
              "    border-bottom-color: var(--fill-color);\n",
              "    animation:\n",
              "      spin 1s steps(1) infinite;\n",
              "  }\n",
              "\n",
              "  @keyframes spin {\n",
              "    0% {\n",
              "      border-color: transparent;\n",
              "      border-bottom-color: var(--fill-color);\n",
              "      border-left-color: var(--fill-color);\n",
              "    }\n",
              "    20% {\n",
              "      border-color: transparent;\n",
              "      border-left-color: var(--fill-color);\n",
              "      border-top-color: var(--fill-color);\n",
              "    }\n",
              "    30% {\n",
              "      border-color: transparent;\n",
              "      border-left-color: var(--fill-color);\n",
              "      border-top-color: var(--fill-color);\n",
              "      border-right-color: var(--fill-color);\n",
              "    }\n",
              "    40% {\n",
              "      border-color: transparent;\n",
              "      border-right-color: var(--fill-color);\n",
              "      border-top-color: var(--fill-color);\n",
              "    }\n",
              "    60% {\n",
              "      border-color: transparent;\n",
              "      border-right-color: var(--fill-color);\n",
              "    }\n",
              "    80% {\n",
              "      border-color: transparent;\n",
              "      border-right-color: var(--fill-color);\n",
              "      border-bottom-color: var(--fill-color);\n",
              "    }\n",
              "    90% {\n",
              "      border-color: transparent;\n",
              "      border-bottom-color: var(--fill-color);\n",
              "    }\n",
              "  }\n",
              "</style>\n",
              "\n",
              "  <script>\n",
              "    async function quickchart(key) {\n",
              "      const quickchartButtonEl =\n",
              "        document.querySelector('#' + key + ' button');\n",
              "      quickchartButtonEl.disabled = true;  // To prevent multiple clicks.\n",
              "      quickchartButtonEl.classList.add('colab-df-spinner');\n",
              "      try {\n",
              "        const charts = await google.colab.kernel.invokeFunction(\n",
              "            'suggestCharts', [key], {});\n",
              "      } catch (error) {\n",
              "        console.error('Error during call to suggestCharts:', error);\n",
              "      }\n",
              "      quickchartButtonEl.classList.remove('colab-df-spinner');\n",
              "      quickchartButtonEl.classList.add('colab-df-quickchart-complete');\n",
              "    }\n",
              "    (() => {\n",
              "      let quickchartButtonEl =\n",
              "        document.querySelector('#df-8326a905-b79e-4f7f-9dd0-31f393d80fc3 button');\n",
              "      quickchartButtonEl.style.display =\n",
              "        google.colab.kernel.accessAllowed ? 'block' : 'none';\n",
              "    })();\n",
              "  </script>\n",
              "</div>\n",
              "    </div>\n",
              "  </div>\n"
            ]
          },
          "metadata": {},
          "execution_count": 11
        }
      ]
    },
    {
      "cell_type": "code",
      "source": [
        "df = pd.read_csv('https://raw.githubusercontent.com/selva86/datasets/master/Cars93_miss.csv')\n",
        "\n",
        "pd.set_option('display.max_columns', 10)\n",
        "pd.set_option('display.max_rows', 10)"
      ],
      "metadata": {
        "id": "gI1YXkgvRjs-"
      },
      "execution_count": null,
      "outputs": []
    },
    {
      "cell_type": "code",
      "source": [
        "df = pd.DataFrame(np.random.random(4)**10, columns=['random'])\n",
        "\n",
        "df.round(4)\n",
        "df.apply(lambda x: '%.4f' % x, axis=1)\n",
        "pd.set_option('display.float_format', lambda x: '%.4f' % x)\n",
        "pd.options.display.float_format = '{:.4f}'.format\n",
        "print(df)\n",
        "pd.options.display.float_format = None"
      ],
      "metadata": {
        "colab": {
          "base_uri": "https://localhost:8080/"
        },
        "id": "3NDcJ3qcOfVY",
        "outputId": "89cd1bdc-a875-4cbd-8941-5a1da255ef59"
      },
      "execution_count": null,
      "outputs": [
        {
          "output_type": "stream",
          "name": "stdout",
          "text": [
            "   random\n",
            "0  0.0000\n",
            "1  0.0000\n",
            "2  0.0000\n",
            "3  0.0011\n"
          ]
        }
      ]
    },
    {
      "cell_type": "code",
      "source": [
        "df = pd.DataFrame(np.random.random(4), columns=['random'])\n",
        "\n",
        "out = df.style.format({'random': '{0:.2%}'.format,})\n",
        "out"
      ],
      "metadata": {
        "colab": {
          "base_uri": "https://localhost:8080/",
          "height": 175
        },
        "id": "HoJ5NnURPale",
        "outputId": "9dbd8d5a-5b64-4de0-f143-c8f2faf245c8"
      },
      "execution_count": null,
      "outputs": [
        {
          "output_type": "execute_result",
          "data": {
            "text/plain": [
              "<pandas.io.formats.style.Styler at 0x7a54a57b7ca0>"
            ],
            "text/html": [
              "<style type=\"text/css\">\n",
              "</style>\n",
              "<table id=\"T_ae921\" class=\"dataframe\">\n",
              "  <thead>\n",
              "    <tr>\n",
              "      <th class=\"blank level0\" >&nbsp;</th>\n",
              "      <th id=\"T_ae921_level0_col0\" class=\"col_heading level0 col0\" >random</th>\n",
              "    </tr>\n",
              "  </thead>\n",
              "  <tbody>\n",
              "    <tr>\n",
              "      <th id=\"T_ae921_level0_row0\" class=\"row_heading level0 row0\" >0</th>\n",
              "      <td id=\"T_ae921_row0_col0\" class=\"data row0 col0\" >19.47%</td>\n",
              "    </tr>\n",
              "    <tr>\n",
              "      <th id=\"T_ae921_level0_row1\" class=\"row_heading level0 row1\" >1</th>\n",
              "      <td id=\"T_ae921_row1_col0\" class=\"data row1 col0\" >71.13%</td>\n",
              "    </tr>\n",
              "    <tr>\n",
              "      <th id=\"T_ae921_level0_row2\" class=\"row_heading level0 row2\" >2</th>\n",
              "      <td id=\"T_ae921_row2_col0\" class=\"data row2 col0\" >49.78%</td>\n",
              "    </tr>\n",
              "    <tr>\n",
              "      <th id=\"T_ae921_level0_row3\" class=\"row_heading level0 row3\" >3</th>\n",
              "      <td id=\"T_ae921_row3_col0\" class=\"data row3 col0\" >92.01%</td>\n",
              "    </tr>\n",
              "  </tbody>\n",
              "</table>\n"
            ]
          },
          "metadata": {},
          "execution_count": 7
        }
      ]
    },
    {
      "cell_type": "code",
      "source": [
        "df = pd.read_csv('https://raw.githubusercontent.com/selva86/datasets/master/Cars93_miss.csv')\n",
        "\n",
        "print(df.iloc[::20, :][['Manufacturer', 'Model', 'Type']])"
      ],
      "metadata": {
        "colab": {
          "base_uri": "https://localhost:8080/"
        },
        "id": "napPtY5sPoKA",
        "outputId": "ef57c731-2e55-4acc-b1fe-f4687aacd1db"
      },
      "execution_count": null,
      "outputs": [
        {
          "output_type": "stream",
          "name": "stdout",
          "text": [
            "   Manufacturer    Model     Type\n",
            "0         Acura  Integra    Small\n",
            "20     Chrysler  LeBaron  Compact\n",
            "40        Honda  Prelude   Sporty\n",
            "60      Mercury   Cougar  Midsize\n",
            "80       Subaru   Loyale    Small\n"
          ]
        }
      ]
    },
    {
      "cell_type": "code",
      "source": [
        "df = pd.read_csv('https://raw.githubusercontent.com/selva86/datasets/master/Cars93_miss.csv', usecols=[0,1,2,3,5])\n",
        "\n",
        "df_out=df[['Manufacturer', 'Model', 'Type', 'Min.Price', 'Max.Price']] = df[['Manufacturer', 'Model', 'Type', 'Min.Price', 'Max.Price']].fillna('missing')\n",
        "print(df_out.head())\n",
        "df.index = df.Manufacturer + '_' + df.Model + '_' + df.Type\n",
        "print(df.index.is_unique)"
      ],
      "metadata": {
        "colab": {
          "base_uri": "https://localhost:8080/"
        },
        "id": "UpJv630GQBb8",
        "outputId": "0822e731-ede5-47e2-854e-ce6d70bc0f13"
      },
      "execution_count": null,
      "outputs": [
        {
          "output_type": "stream",
          "name": "stdout",
          "text": [
            "  Manufacturer    Model     Type Min.Price Max.Price\n",
            "0        Acura  Integra    Small      12.9      18.8\n",
            "1      missing   Legend  Midsize      29.2      38.7\n",
            "2         Audi       90  Compact      25.9      32.3\n",
            "3         Audi      100  Midsize   missing      44.6\n",
            "4          BMW     535i  Midsize   missing   missing\n",
            "True\n"
          ]
        }
      ]
    },
    {
      "cell_type": "code",
      "source": [
        "df = pd.DataFrame(np.random.randint(1, 30, 30).reshape(10,-1), columns=list('abc'))\n",
        "\n",
        "print(df)\n",
        "print(\"\\n\")\n",
        "print(df['a'].argsort())\n",
        "n = 5\n",
        "print(\"\\n\")\n",
        "df['a'].argsort()[::-1][n]"
      ],
      "metadata": {
        "colab": {
          "base_uri": "https://localhost:8080/"
        },
        "id": "zGQ9QGdsRY3N",
        "outputId": "c9c1f44c-3ae9-4eb3-e797-e4ff05dcadc9"
      },
      "execution_count": null,
      "outputs": [
        {
          "output_type": "stream",
          "name": "stdout",
          "text": [
            "    a   b   c\n",
            "0   4  27   1\n",
            "1  14   2  11\n",
            "2  13   8  15\n",
            "3  15   3  17\n",
            "4  24   5   9\n",
            "5   6   4  17\n",
            "6   8  29  18\n",
            "7   8  12  21\n",
            "8  22  27   8\n",
            "9  20  26   2\n",
            "\n",
            "\n",
            "0    0\n",
            "1    5\n",
            "2    6\n",
            "3    7\n",
            "4    2\n",
            "5    1\n",
            "6    3\n",
            "7    9\n",
            "8    8\n",
            "9    4\n",
            "Name: a, dtype: int64\n",
            "\n",
            "\n"
          ]
        },
        {
          "output_type": "execute_result",
          "data": {
            "text/plain": [
              "1"
            ]
          },
          "metadata": {},
          "execution_count": 41
        }
      ]
    },
    {
      "cell_type": "code",
      "source": [
        "ser = pd.Series(np.random.randint(1, 100, 15))\n",
        "\n",
        "print('ser: ', ser.tolist(), 'mean: ', round(ser.mean()))\n",
        "ser_mean = np.mean(ser.values).round()\n",
        "greater_than_mean_arr = ser.where(ser > ser_mean).dropna().sort_values()\n",
        "row_second_largest_num = greater_than_mean_arr.index[1]\n",
        "row_second_largest_num"
      ],
      "metadata": {
        "colab": {
          "base_uri": "https://localhost:8080/"
        },
        "id": "EWVWWWy0Twoh",
        "outputId": "96f67c6c-045a-4226-e8c3-1397edf8f859"
      },
      "execution_count": null,
      "outputs": [
        {
          "output_type": "stream",
          "name": "stdout",
          "text": [
            "ser:  [75, 35, 69, 45, 61, 68, 79, 22, 40, 93, 64, 97, 14, 99, 47] mean:  61\n"
          ]
        },
        {
          "output_type": "execute_result",
          "data": {
            "text/plain": [
              "5"
            ]
          },
          "metadata": {},
          "execution_count": 64
        }
      ]
    },
    {
      "cell_type": "code",
      "source": [
        "df = pd.DataFrame(np.random.randint(10, 40, 60).reshape(-1, 4))\n",
        "\n",
        "rowsums = df.apply(np.sum, axis=1).sort_values()\n",
        "print(rowsums)\n",
        "last_two_rows = df.iloc[np.where(rowsums > 100)[0][-2:], :]\n",
        "print(last_two_rows)"
      ],
      "metadata": {
        "colab": {
          "base_uri": "https://localhost:8080/"
        },
        "id": "QkJ9d2q5X2V8",
        "outputId": "31abfe52-2c64-410a-af0c-1227f16cbee4"
      },
      "execution_count": null,
      "outputs": [
        {
          "output_type": "stream",
          "name": "stdout",
          "text": [
            "11     88\n",
            "3      95\n",
            "4      95\n",
            "2      96\n",
            "10     96\n",
            "12     98\n",
            "0     101\n",
            "5     101\n",
            "1     103\n",
            "9     106\n",
            "13    109\n",
            "8     113\n",
            "6     115\n",
            "14    115\n",
            "7     117\n",
            "dtype: int64\n",
            "     0   1   2   3\n",
            "13  20  36  29  24\n",
            "14  32  18  37  28\n"
          ]
        }
      ]
    },
    {
      "cell_type": "code",
      "source": [
        "ser = pd.Series(np.logspace(-2, 2, 30))\n",
        "\n",
        "print(ser)\n",
        "print(\"\\n\")\n",
        "low_perc = ser.quantile(q=0.05)\n",
        "print(low_perc)\n",
        "high_perc = ser.quantile(q=0.95)\n",
        "print(high_perc)\n",
        "ser.where(ser > low_perc, other=low_perc, inplace=True)\n",
        "ser.where(ser < high_perc, other=high_perc, inplace=True)\n",
        "print(\"\\n\")\n",
        "print(ser)"
      ],
      "metadata": {
        "colab": {
          "base_uri": "https://localhost:8080/"
        },
        "id": "Ju3CL5WcYewI",
        "outputId": "cd6791a0-6c33-432d-8e34-17a3793b457c"
      },
      "execution_count": null,
      "outputs": [
        {
          "output_type": "stream",
          "name": "stdout",
          "text": [
            "0       0.010000\n",
            "1       0.013738\n",
            "2       0.018874\n",
            "3       0.025929\n",
            "4       0.035622\n",
            "5       0.048939\n",
            "6       0.067234\n",
            "7       0.092367\n",
            "8       0.126896\n",
            "9       0.174333\n",
            "10      0.239503\n",
            "11      0.329034\n",
            "12      0.452035\n",
            "13      0.621017\n",
            "14      0.853168\n",
            "15      1.172102\n",
            "16      1.610262\n",
            "17      2.212216\n",
            "18      3.039195\n",
            "19      4.175319\n",
            "20      5.736153\n",
            "21      7.880463\n",
            "22     10.826367\n",
            "23     14.873521\n",
            "24     20.433597\n",
            "25     28.072162\n",
            "26     38.566204\n",
            "27     52.983169\n",
            "28     72.789538\n",
            "29    100.000000\n",
            "dtype: float64\n",
            "\n",
            "\n",
            "0.016049294076965887\n",
            "63.87667222018393\n",
            "\n",
            "\n",
            "0      0.016049\n",
            "1      0.016049\n",
            "2      0.018874\n",
            "3      0.025929\n",
            "4      0.035622\n",
            "5      0.048939\n",
            "6      0.067234\n",
            "7      0.092367\n",
            "8      0.126896\n",
            "9      0.174333\n",
            "10     0.239503\n",
            "11     0.329034\n",
            "12     0.452035\n",
            "13     0.621017\n",
            "14     0.853168\n",
            "15     1.172102\n",
            "16     1.610262\n",
            "17     2.212216\n",
            "18     3.039195\n",
            "19     4.175319\n",
            "20     5.736153\n",
            "21     7.880463\n",
            "22    10.826367\n",
            "23    14.873521\n",
            "24    20.433597\n",
            "25    28.072162\n",
            "26    38.566204\n",
            "27    52.983169\n",
            "28    63.876672\n",
            "29    63.876672\n",
            "dtype: float64\n"
          ]
        }
      ]
    },
    {
      "cell_type": "code",
      "source": [
        "df = pd.DataFrame(np.random.randint(-20, 50, 100).reshape(10,-1))\n",
        "\n",
        "print(df)\n",
        "print(\"\\n\")\n",
        "arr = df[df > 0].values.flatten()\n",
        "pos_arr = arr[~np.isnan(arr)]\n",
        "n = int(np.floor(pos_arr.shape[0]**.5))\n",
        "top_indexes = np.argsort(pos_arr)[::-1]\n",
        "output = np.take(pos_arr, sorted(top_indexes[:n**2])).reshape(n, -1)\n",
        "print(output)"
      ],
      "metadata": {
        "colab": {
          "base_uri": "https://localhost:8080/"
        },
        "id": "NuH52NsyZt5U",
        "outputId": "ac9874f8-0ea4-424e-ca34-4b41ffdd9b63"
      },
      "execution_count": null,
      "outputs": [
        {
          "output_type": "stream",
          "name": "stdout",
          "text": [
            "    0   1   2   3   4   5   6   7   8   9\n",
            "0  24   9  11  10   5 -17 -14 -16   7  19\n",
            "1  28  27 -11 -10 -19  33  22   3  -4 -18\n",
            "2  42  22   5  34  37 -18  36  42 -17  23\n",
            "3  40  37  44  28  28  29  46  24  21  -8\n",
            "4  -8  24  21  42  14 -20  27  41  32  42\n",
            "5  23 -10  18  44  -4  35  -3   1  32  13\n",
            "6 -13  41 -10  14  36   9  12 -10  30  11\n",
            "7  21  30  35  45  16   3  38  -7  43   8\n",
            "8 -10  -8  -5  40 -17  12  46  24  33  18\n",
            "9  22  12  16  40  -9  11  48  44 -10  13\n",
            "\n",
            "\n",
            "[[24. 11. 19. 28. 27. 33. 22. 42.]\n",
            " [22. 34. 37. 36. 42. 23. 40. 37.]\n",
            " [44. 28. 28. 29. 46. 24. 21. 24.]\n",
            " [21. 42. 14. 27. 41. 32. 42. 23.]\n",
            " [18. 44. 35. 32. 13. 41. 14. 36.]\n",
            " [12. 30. 11. 21. 30. 35. 45. 16.]\n",
            " [38. 43. 40. 12. 46. 24. 33. 18.]\n",
            " [22. 12. 16. 40. 11. 48. 44. 13.]]\n"
          ]
        }
      ]
    },
    {
      "cell_type": "code",
      "source": [
        "df = pd.DataFrame(np.arange(25).reshape(5, -1))\n",
        "\n",
        "print(df)\n",
        "print(\"\\n\")\n",
        "def swap_rows(df, i1, i2):\n",
        "    a, b = df.iloc[i1, :].copy(), df.iloc[i2, :].copy()\n",
        "    df.iloc[i1, :], df.iloc[i2, :] = b, a\n",
        "    return df\n",
        "print(swap_rows(df, 1, 2))"
      ],
      "metadata": {
        "colab": {
          "base_uri": "https://localhost:8080/"
        },
        "id": "s62P8aC4bSo3",
        "outputId": "ea5d2660-44a9-40da-c93b-5a6c32144890"
      },
      "execution_count": null,
      "outputs": [
        {
          "output_type": "stream",
          "name": "stdout",
          "text": [
            "    0   1   2   3   4\n",
            "0   0   1   2   3   4\n",
            "1   5   6   7   8   9\n",
            "2  10  11  12  13  14\n",
            "3  15  16  17  18  19\n",
            "4  20  21  22  23  24\n",
            "\n",
            "\n",
            "    0   1   2   3   4\n",
            "0   0   1   2   3   4\n",
            "1  10  11  12  13  14\n",
            "2   5   6   7   8   9\n",
            "3  15  16  17  18  19\n",
            "4  20  21  22  23  24\n"
          ]
        }
      ]
    },
    {
      "cell_type": "code",
      "source": [
        "df = pd.DataFrame(np.arange(25).reshape(5, -1))\n",
        "\n",
        "print(df)\n",
        "print(\"\\n\")\n",
        "df.iloc[::-1]"
      ],
      "metadata": {
        "colab": {
          "base_uri": "https://localhost:8080/",
          "height": 345
        },
        "id": "nUey7t3OsxLs",
        "outputId": "381e6e19-fb63-44ef-b038-55697c0627b6"
      },
      "execution_count": null,
      "outputs": [
        {
          "output_type": "stream",
          "name": "stdout",
          "text": [
            "    0   1   2   3   4\n",
            "0   0   1   2   3   4\n",
            "1   5   6   7   8   9\n",
            "2  10  11  12  13  14\n",
            "3  15  16  17  18  19\n",
            "4  20  21  22  23  24\n",
            "\n",
            "\n"
          ]
        },
        {
          "output_type": "execute_result",
          "data": {
            "text/plain": [
              "    0   1   2   3   4\n",
              "4  20  21  22  23  24\n",
              "3  15  16  17  18  19\n",
              "2  10  11  12  13  14\n",
              "1   5   6   7   8   9\n",
              "0   0   1   2   3   4"
            ],
            "text/html": [
              "\n",
              "  <div id=\"df-f2747178-d378-48d2-83fc-80c7fe401230\" class=\"colab-df-container\">\n",
              "    <div>\n",
              "<style scoped>\n",
              "    .dataframe tbody tr th:only-of-type {\n",
              "        vertical-align: middle;\n",
              "    }\n",
              "\n",
              "    .dataframe tbody tr th {\n",
              "        vertical-align: top;\n",
              "    }\n",
              "\n",
              "    .dataframe thead th {\n",
              "        text-align: right;\n",
              "    }\n",
              "</style>\n",
              "<table border=\"1\" class=\"dataframe\">\n",
              "  <thead>\n",
              "    <tr style=\"text-align: right;\">\n",
              "      <th></th>\n",
              "      <th>0</th>\n",
              "      <th>1</th>\n",
              "      <th>2</th>\n",
              "      <th>3</th>\n",
              "      <th>4</th>\n",
              "    </tr>\n",
              "  </thead>\n",
              "  <tbody>\n",
              "    <tr>\n",
              "      <th>4</th>\n",
              "      <td>20</td>\n",
              "      <td>21</td>\n",
              "      <td>22</td>\n",
              "      <td>23</td>\n",
              "      <td>24</td>\n",
              "    </tr>\n",
              "    <tr>\n",
              "      <th>3</th>\n",
              "      <td>15</td>\n",
              "      <td>16</td>\n",
              "      <td>17</td>\n",
              "      <td>18</td>\n",
              "      <td>19</td>\n",
              "    </tr>\n",
              "    <tr>\n",
              "      <th>2</th>\n",
              "      <td>10</td>\n",
              "      <td>11</td>\n",
              "      <td>12</td>\n",
              "      <td>13</td>\n",
              "      <td>14</td>\n",
              "    </tr>\n",
              "    <tr>\n",
              "      <th>1</th>\n",
              "      <td>5</td>\n",
              "      <td>6</td>\n",
              "      <td>7</td>\n",
              "      <td>8</td>\n",
              "      <td>9</td>\n",
              "    </tr>\n",
              "    <tr>\n",
              "      <th>0</th>\n",
              "      <td>0</td>\n",
              "      <td>1</td>\n",
              "      <td>2</td>\n",
              "      <td>3</td>\n",
              "      <td>4</td>\n",
              "    </tr>\n",
              "  </tbody>\n",
              "</table>\n",
              "</div>\n",
              "    <div class=\"colab-df-buttons\">\n",
              "\n",
              "  <div class=\"colab-df-container\">\n",
              "    <button class=\"colab-df-convert\" onclick=\"convertToInteractive('df-f2747178-d378-48d2-83fc-80c7fe401230')\"\n",
              "            title=\"Convert this dataframe to an interactive table.\"\n",
              "            style=\"display:none;\">\n",
              "\n",
              "  <svg xmlns=\"http://www.w3.org/2000/svg\" height=\"24px\" viewBox=\"0 -960 960 960\">\n",
              "    <path d=\"M120-120v-720h720v720H120Zm60-500h600v-160H180v160Zm220 220h160v-160H400v160Zm0 220h160v-160H400v160ZM180-400h160v-160H180v160Zm440 0h160v-160H620v160ZM180-180h160v-160H180v160Zm440 0h160v-160H620v160Z\"/>\n",
              "  </svg>\n",
              "    </button>\n",
              "\n",
              "  <style>\n",
              "    .colab-df-container {\n",
              "      display:flex;\n",
              "      gap: 12px;\n",
              "    }\n",
              "\n",
              "    .colab-df-convert {\n",
              "      background-color: #E8F0FE;\n",
              "      border: none;\n",
              "      border-radius: 50%;\n",
              "      cursor: pointer;\n",
              "      display: none;\n",
              "      fill: #1967D2;\n",
              "      height: 32px;\n",
              "      padding: 0 0 0 0;\n",
              "      width: 32px;\n",
              "    }\n",
              "\n",
              "    .colab-df-convert:hover {\n",
              "      background-color: #E2EBFA;\n",
              "      box-shadow: 0px 1px 2px rgba(60, 64, 67, 0.3), 0px 1px 3px 1px rgba(60, 64, 67, 0.15);\n",
              "      fill: #174EA6;\n",
              "    }\n",
              "\n",
              "    .colab-df-buttons div {\n",
              "      margin-bottom: 4px;\n",
              "    }\n",
              "\n",
              "    [theme=dark] .colab-df-convert {\n",
              "      background-color: #3B4455;\n",
              "      fill: #D2E3FC;\n",
              "    }\n",
              "\n",
              "    [theme=dark] .colab-df-convert:hover {\n",
              "      background-color: #434B5C;\n",
              "      box-shadow: 0px 1px 3px 1px rgba(0, 0, 0, 0.15);\n",
              "      filter: drop-shadow(0px 1px 2px rgba(0, 0, 0, 0.3));\n",
              "      fill: #FFFFFF;\n",
              "    }\n",
              "  </style>\n",
              "\n",
              "    <script>\n",
              "      const buttonEl =\n",
              "        document.querySelector('#df-f2747178-d378-48d2-83fc-80c7fe401230 button.colab-df-convert');\n",
              "      buttonEl.style.display =\n",
              "        google.colab.kernel.accessAllowed ? 'block' : 'none';\n",
              "\n",
              "      async function convertToInteractive(key) {\n",
              "        const element = document.querySelector('#df-f2747178-d378-48d2-83fc-80c7fe401230');\n",
              "        const dataTable =\n",
              "          await google.colab.kernel.invokeFunction('convertToInteractive',\n",
              "                                                    [key], {});\n",
              "        if (!dataTable) return;\n",
              "\n",
              "        const docLinkHtml = 'Like what you see? Visit the ' +\n",
              "          '<a target=\"_blank\" href=https://colab.research.google.com/notebooks/data_table.ipynb>data table notebook</a>'\n",
              "          + ' to learn more about interactive tables.';\n",
              "        element.innerHTML = '';\n",
              "        dataTable['output_type'] = 'display_data';\n",
              "        await google.colab.output.renderOutput(dataTable, element);\n",
              "        const docLink = document.createElement('div');\n",
              "        docLink.innerHTML = docLinkHtml;\n",
              "        element.appendChild(docLink);\n",
              "      }\n",
              "    </script>\n",
              "  </div>\n",
              "\n",
              "\n",
              "<div id=\"df-ac2a06b4-733a-40ad-910d-4eba40a18eed\">\n",
              "  <button class=\"colab-df-quickchart\" onclick=\"quickchart('df-ac2a06b4-733a-40ad-910d-4eba40a18eed')\"\n",
              "            title=\"Suggest charts\"\n",
              "            style=\"display:none;\">\n",
              "\n",
              "<svg xmlns=\"http://www.w3.org/2000/svg\" height=\"24px\"viewBox=\"0 0 24 24\"\n",
              "     width=\"24px\">\n",
              "    <g>\n",
              "        <path d=\"M19 3H5c-1.1 0-2 .9-2 2v14c0 1.1.9 2 2 2h14c1.1 0 2-.9 2-2V5c0-1.1-.9-2-2-2zM9 17H7v-7h2v7zm4 0h-2V7h2v10zm4 0h-2v-4h2v4z\"/>\n",
              "    </g>\n",
              "</svg>\n",
              "  </button>\n",
              "\n",
              "<style>\n",
              "  .colab-df-quickchart {\n",
              "      --bg-color: #E8F0FE;\n",
              "      --fill-color: #1967D2;\n",
              "      --hover-bg-color: #E2EBFA;\n",
              "      --hover-fill-color: #174EA6;\n",
              "      --disabled-fill-color: #AAA;\n",
              "      --disabled-bg-color: #DDD;\n",
              "  }\n",
              "\n",
              "  [theme=dark] .colab-df-quickchart {\n",
              "      --bg-color: #3B4455;\n",
              "      --fill-color: #D2E3FC;\n",
              "      --hover-bg-color: #434B5C;\n",
              "      --hover-fill-color: #FFFFFF;\n",
              "      --disabled-bg-color: #3B4455;\n",
              "      --disabled-fill-color: #666;\n",
              "  }\n",
              "\n",
              "  .colab-df-quickchart {\n",
              "    background-color: var(--bg-color);\n",
              "    border: none;\n",
              "    border-radius: 50%;\n",
              "    cursor: pointer;\n",
              "    display: none;\n",
              "    fill: var(--fill-color);\n",
              "    height: 32px;\n",
              "    padding: 0;\n",
              "    width: 32px;\n",
              "  }\n",
              "\n",
              "  .colab-df-quickchart:hover {\n",
              "    background-color: var(--hover-bg-color);\n",
              "    box-shadow: 0 1px 2px rgba(60, 64, 67, 0.3), 0 1px 3px 1px rgba(60, 64, 67, 0.15);\n",
              "    fill: var(--button-hover-fill-color);\n",
              "  }\n",
              "\n",
              "  .colab-df-quickchart-complete:disabled,\n",
              "  .colab-df-quickchart-complete:disabled:hover {\n",
              "    background-color: var(--disabled-bg-color);\n",
              "    fill: var(--disabled-fill-color);\n",
              "    box-shadow: none;\n",
              "  }\n",
              "\n",
              "  .colab-df-spinner {\n",
              "    border: 2px solid var(--fill-color);\n",
              "    border-color: transparent;\n",
              "    border-bottom-color: var(--fill-color);\n",
              "    animation:\n",
              "      spin 1s steps(1) infinite;\n",
              "  }\n",
              "\n",
              "  @keyframes spin {\n",
              "    0% {\n",
              "      border-color: transparent;\n",
              "      border-bottom-color: var(--fill-color);\n",
              "      border-left-color: var(--fill-color);\n",
              "    }\n",
              "    20% {\n",
              "      border-color: transparent;\n",
              "      border-left-color: var(--fill-color);\n",
              "      border-top-color: var(--fill-color);\n",
              "    }\n",
              "    30% {\n",
              "      border-color: transparent;\n",
              "      border-left-color: var(--fill-color);\n",
              "      border-top-color: var(--fill-color);\n",
              "      border-right-color: var(--fill-color);\n",
              "    }\n",
              "    40% {\n",
              "      border-color: transparent;\n",
              "      border-right-color: var(--fill-color);\n",
              "      border-top-color: var(--fill-color);\n",
              "    }\n",
              "    60% {\n",
              "      border-color: transparent;\n",
              "      border-right-color: var(--fill-color);\n",
              "    }\n",
              "    80% {\n",
              "      border-color: transparent;\n",
              "      border-right-color: var(--fill-color);\n",
              "      border-bottom-color: var(--fill-color);\n",
              "    }\n",
              "    90% {\n",
              "      border-color: transparent;\n",
              "      border-bottom-color: var(--fill-color);\n",
              "    }\n",
              "  }\n",
              "</style>\n",
              "\n",
              "  <script>\n",
              "    async function quickchart(key) {\n",
              "      const quickchartButtonEl =\n",
              "        document.querySelector('#' + key + ' button');\n",
              "      quickchartButtonEl.disabled = true;  // To prevent multiple clicks.\n",
              "      quickchartButtonEl.classList.add('colab-df-spinner');\n",
              "      try {\n",
              "        const charts = await google.colab.kernel.invokeFunction(\n",
              "            'suggestCharts', [key], {});\n",
              "      } catch (error) {\n",
              "        console.error('Error during call to suggestCharts:', error);\n",
              "      }\n",
              "      quickchartButtonEl.classList.remove('colab-df-spinner');\n",
              "      quickchartButtonEl.classList.add('colab-df-quickchart-complete');\n",
              "    }\n",
              "    (() => {\n",
              "      let quickchartButtonEl =\n",
              "        document.querySelector('#df-ac2a06b4-733a-40ad-910d-4eba40a18eed button');\n",
              "      quickchartButtonEl.style.display =\n",
              "        google.colab.kernel.accessAllowed ? 'block' : 'none';\n",
              "    })();\n",
              "  </script>\n",
              "</div>\n",
              "    </div>\n",
              "  </div>\n"
            ]
          },
          "metadata": {},
          "execution_count": 6
        }
      ]
    },
    {
      "cell_type": "code",
      "source": [
        "df = pd.DataFrame(np.arange(25).reshape(5,-1), columns=list('abcde'))\n",
        "\n",
        "print(df)\n",
        "print(\"\\n\")\n",
        "one_hot = pd.get_dummies(df[\"a\"])\n",
        "print(one_hot)\n",
        "print(\"\\n\")\n",
        "pd.concat([one_hot, df[[\"b\",\"c\",\"d\",\"e\"]]],axis=1)"
      ],
      "metadata": {
        "colab": {
          "base_uri": "https://localhost:8080/",
          "height": 484
        },
        "id": "qBVbjAx4tMTr",
        "outputId": "27263315-5e9d-48d7-e3ef-aa4a31ef840f"
      },
      "execution_count": null,
      "outputs": [
        {
          "output_type": "stream",
          "name": "stdout",
          "text": [
            "    a   b   c   d   e\n",
            "0   0   1   2   3   4\n",
            "1   5   6   7   8   9\n",
            "2  10  11  12  13  14\n",
            "3  15  16  17  18  19\n",
            "4  20  21  22  23  24\n",
            "\n",
            "\n",
            "   0   5   10  15  20\n",
            "0   1   0   0   0   0\n",
            "1   0   1   0   0   0\n",
            "2   0   0   1   0   0\n",
            "3   0   0   0   1   0\n",
            "4   0   0   0   0   1\n",
            "\n",
            "\n"
          ]
        },
        {
          "output_type": "execute_result",
          "data": {
            "text/plain": [
              "   0  5  10  15  20   b   c   d   e\n",
              "0  1  0   0   0   0   1   2   3   4\n",
              "1  0  1   0   0   0   6   7   8   9\n",
              "2  0  0   1   0   0  11  12  13  14\n",
              "3  0  0   0   1   0  16  17  18  19\n",
              "4  0  0   0   0   1  21  22  23  24"
            ],
            "text/html": [
              "\n",
              "  <div id=\"df-5b9bd58e-815b-4056-a116-d969dddaddde\" class=\"colab-df-container\">\n",
              "    <div>\n",
              "<style scoped>\n",
              "    .dataframe tbody tr th:only-of-type {\n",
              "        vertical-align: middle;\n",
              "    }\n",
              "\n",
              "    .dataframe tbody tr th {\n",
              "        vertical-align: top;\n",
              "    }\n",
              "\n",
              "    .dataframe thead th {\n",
              "        text-align: right;\n",
              "    }\n",
              "</style>\n",
              "<table border=\"1\" class=\"dataframe\">\n",
              "  <thead>\n",
              "    <tr style=\"text-align: right;\">\n",
              "      <th></th>\n",
              "      <th>0</th>\n",
              "      <th>5</th>\n",
              "      <th>10</th>\n",
              "      <th>15</th>\n",
              "      <th>20</th>\n",
              "      <th>b</th>\n",
              "      <th>c</th>\n",
              "      <th>d</th>\n",
              "      <th>e</th>\n",
              "    </tr>\n",
              "  </thead>\n",
              "  <tbody>\n",
              "    <tr>\n",
              "      <th>0</th>\n",
              "      <td>1</td>\n",
              "      <td>0</td>\n",
              "      <td>0</td>\n",
              "      <td>0</td>\n",
              "      <td>0</td>\n",
              "      <td>1</td>\n",
              "      <td>2</td>\n",
              "      <td>3</td>\n",
              "      <td>4</td>\n",
              "    </tr>\n",
              "    <tr>\n",
              "      <th>1</th>\n",
              "      <td>0</td>\n",
              "      <td>1</td>\n",
              "      <td>0</td>\n",
              "      <td>0</td>\n",
              "      <td>0</td>\n",
              "      <td>6</td>\n",
              "      <td>7</td>\n",
              "      <td>8</td>\n",
              "      <td>9</td>\n",
              "    </tr>\n",
              "    <tr>\n",
              "      <th>2</th>\n",
              "      <td>0</td>\n",
              "      <td>0</td>\n",
              "      <td>1</td>\n",
              "      <td>0</td>\n",
              "      <td>0</td>\n",
              "      <td>11</td>\n",
              "      <td>12</td>\n",
              "      <td>13</td>\n",
              "      <td>14</td>\n",
              "    </tr>\n",
              "    <tr>\n",
              "      <th>3</th>\n",
              "      <td>0</td>\n",
              "      <td>0</td>\n",
              "      <td>0</td>\n",
              "      <td>1</td>\n",
              "      <td>0</td>\n",
              "      <td>16</td>\n",
              "      <td>17</td>\n",
              "      <td>18</td>\n",
              "      <td>19</td>\n",
              "    </tr>\n",
              "    <tr>\n",
              "      <th>4</th>\n",
              "      <td>0</td>\n",
              "      <td>0</td>\n",
              "      <td>0</td>\n",
              "      <td>0</td>\n",
              "      <td>1</td>\n",
              "      <td>21</td>\n",
              "      <td>22</td>\n",
              "      <td>23</td>\n",
              "      <td>24</td>\n",
              "    </tr>\n",
              "  </tbody>\n",
              "</table>\n",
              "</div>\n",
              "    <div class=\"colab-df-buttons\">\n",
              "\n",
              "  <div class=\"colab-df-container\">\n",
              "    <button class=\"colab-df-convert\" onclick=\"convertToInteractive('df-5b9bd58e-815b-4056-a116-d969dddaddde')\"\n",
              "            title=\"Convert this dataframe to an interactive table.\"\n",
              "            style=\"display:none;\">\n",
              "\n",
              "  <svg xmlns=\"http://www.w3.org/2000/svg\" height=\"24px\" viewBox=\"0 -960 960 960\">\n",
              "    <path d=\"M120-120v-720h720v720H120Zm60-500h600v-160H180v160Zm220 220h160v-160H400v160Zm0 220h160v-160H400v160ZM180-400h160v-160H180v160Zm440 0h160v-160H620v160ZM180-180h160v-160H180v160Zm440 0h160v-160H620v160Z\"/>\n",
              "  </svg>\n",
              "    </button>\n",
              "\n",
              "  <style>\n",
              "    .colab-df-container {\n",
              "      display:flex;\n",
              "      gap: 12px;\n",
              "    }\n",
              "\n",
              "    .colab-df-convert {\n",
              "      background-color: #E8F0FE;\n",
              "      border: none;\n",
              "      border-radius: 50%;\n",
              "      cursor: pointer;\n",
              "      display: none;\n",
              "      fill: #1967D2;\n",
              "      height: 32px;\n",
              "      padding: 0 0 0 0;\n",
              "      width: 32px;\n",
              "    }\n",
              "\n",
              "    .colab-df-convert:hover {\n",
              "      background-color: #E2EBFA;\n",
              "      box-shadow: 0px 1px 2px rgba(60, 64, 67, 0.3), 0px 1px 3px 1px rgba(60, 64, 67, 0.15);\n",
              "      fill: #174EA6;\n",
              "    }\n",
              "\n",
              "    .colab-df-buttons div {\n",
              "      margin-bottom: 4px;\n",
              "    }\n",
              "\n",
              "    [theme=dark] .colab-df-convert {\n",
              "      background-color: #3B4455;\n",
              "      fill: #D2E3FC;\n",
              "    }\n",
              "\n",
              "    [theme=dark] .colab-df-convert:hover {\n",
              "      background-color: #434B5C;\n",
              "      box-shadow: 0px 1px 3px 1px rgba(0, 0, 0, 0.15);\n",
              "      filter: drop-shadow(0px 1px 2px rgba(0, 0, 0, 0.3));\n",
              "      fill: #FFFFFF;\n",
              "    }\n",
              "  </style>\n",
              "\n",
              "    <script>\n",
              "      const buttonEl =\n",
              "        document.querySelector('#df-5b9bd58e-815b-4056-a116-d969dddaddde button.colab-df-convert');\n",
              "      buttonEl.style.display =\n",
              "        google.colab.kernel.accessAllowed ? 'block' : 'none';\n",
              "\n",
              "      async function convertToInteractive(key) {\n",
              "        const element = document.querySelector('#df-5b9bd58e-815b-4056-a116-d969dddaddde');\n",
              "        const dataTable =\n",
              "          await google.colab.kernel.invokeFunction('convertToInteractive',\n",
              "                                                    [key], {});\n",
              "        if (!dataTable) return;\n",
              "\n",
              "        const docLinkHtml = 'Like what you see? Visit the ' +\n",
              "          '<a target=\"_blank\" href=https://colab.research.google.com/notebooks/data_table.ipynb>data table notebook</a>'\n",
              "          + ' to learn more about interactive tables.';\n",
              "        element.innerHTML = '';\n",
              "        dataTable['output_type'] = 'display_data';\n",
              "        await google.colab.output.renderOutput(dataTable, element);\n",
              "        const docLink = document.createElement('div');\n",
              "        docLink.innerHTML = docLinkHtml;\n",
              "        element.appendChild(docLink);\n",
              "      }\n",
              "    </script>\n",
              "  </div>\n",
              "\n",
              "\n",
              "<div id=\"df-ea0b97e4-2a74-4807-9ad8-03a4adba1dbf\">\n",
              "  <button class=\"colab-df-quickchart\" onclick=\"quickchart('df-ea0b97e4-2a74-4807-9ad8-03a4adba1dbf')\"\n",
              "            title=\"Suggest charts\"\n",
              "            style=\"display:none;\">\n",
              "\n",
              "<svg xmlns=\"http://www.w3.org/2000/svg\" height=\"24px\"viewBox=\"0 0 24 24\"\n",
              "     width=\"24px\">\n",
              "    <g>\n",
              "        <path d=\"M19 3H5c-1.1 0-2 .9-2 2v14c0 1.1.9 2 2 2h14c1.1 0 2-.9 2-2V5c0-1.1-.9-2-2-2zM9 17H7v-7h2v7zm4 0h-2V7h2v10zm4 0h-2v-4h2v4z\"/>\n",
              "    </g>\n",
              "</svg>\n",
              "  </button>\n",
              "\n",
              "<style>\n",
              "  .colab-df-quickchart {\n",
              "      --bg-color: #E8F0FE;\n",
              "      --fill-color: #1967D2;\n",
              "      --hover-bg-color: #E2EBFA;\n",
              "      --hover-fill-color: #174EA6;\n",
              "      --disabled-fill-color: #AAA;\n",
              "      --disabled-bg-color: #DDD;\n",
              "  }\n",
              "\n",
              "  [theme=dark] .colab-df-quickchart {\n",
              "      --bg-color: #3B4455;\n",
              "      --fill-color: #D2E3FC;\n",
              "      --hover-bg-color: #434B5C;\n",
              "      --hover-fill-color: #FFFFFF;\n",
              "      --disabled-bg-color: #3B4455;\n",
              "      --disabled-fill-color: #666;\n",
              "  }\n",
              "\n",
              "  .colab-df-quickchart {\n",
              "    background-color: var(--bg-color);\n",
              "    border: none;\n",
              "    border-radius: 50%;\n",
              "    cursor: pointer;\n",
              "    display: none;\n",
              "    fill: var(--fill-color);\n",
              "    height: 32px;\n",
              "    padding: 0;\n",
              "    width: 32px;\n",
              "  }\n",
              "\n",
              "  .colab-df-quickchart:hover {\n",
              "    background-color: var(--hover-bg-color);\n",
              "    box-shadow: 0 1px 2px rgba(60, 64, 67, 0.3), 0 1px 3px 1px rgba(60, 64, 67, 0.15);\n",
              "    fill: var(--button-hover-fill-color);\n",
              "  }\n",
              "\n",
              "  .colab-df-quickchart-complete:disabled,\n",
              "  .colab-df-quickchart-complete:disabled:hover {\n",
              "    background-color: var(--disabled-bg-color);\n",
              "    fill: var(--disabled-fill-color);\n",
              "    box-shadow: none;\n",
              "  }\n",
              "\n",
              "  .colab-df-spinner {\n",
              "    border: 2px solid var(--fill-color);\n",
              "    border-color: transparent;\n",
              "    border-bottom-color: var(--fill-color);\n",
              "    animation:\n",
              "      spin 1s steps(1) infinite;\n",
              "  }\n",
              "\n",
              "  @keyframes spin {\n",
              "    0% {\n",
              "      border-color: transparent;\n",
              "      border-bottom-color: var(--fill-color);\n",
              "      border-left-color: var(--fill-color);\n",
              "    }\n",
              "    20% {\n",
              "      border-color: transparent;\n",
              "      border-left-color: var(--fill-color);\n",
              "      border-top-color: var(--fill-color);\n",
              "    }\n",
              "    30% {\n",
              "      border-color: transparent;\n",
              "      border-left-color: var(--fill-color);\n",
              "      border-top-color: var(--fill-color);\n",
              "      border-right-color: var(--fill-color);\n",
              "    }\n",
              "    40% {\n",
              "      border-color: transparent;\n",
              "      border-right-color: var(--fill-color);\n",
              "      border-top-color: var(--fill-color);\n",
              "    }\n",
              "    60% {\n",
              "      border-color: transparent;\n",
              "      border-right-color: var(--fill-color);\n",
              "    }\n",
              "    80% {\n",
              "      border-color: transparent;\n",
              "      border-right-color: var(--fill-color);\n",
              "      border-bottom-color: var(--fill-color);\n",
              "    }\n",
              "    90% {\n",
              "      border-color: transparent;\n",
              "      border-bottom-color: var(--fill-color);\n",
              "    }\n",
              "  }\n",
              "</style>\n",
              "\n",
              "  <script>\n",
              "    async function quickchart(key) {\n",
              "      const quickchartButtonEl =\n",
              "        document.querySelector('#' + key + ' button');\n",
              "      quickchartButtonEl.disabled = true;  // To prevent multiple clicks.\n",
              "      quickchartButtonEl.classList.add('colab-df-spinner');\n",
              "      try {\n",
              "        const charts = await google.colab.kernel.invokeFunction(\n",
              "            'suggestCharts', [key], {});\n",
              "      } catch (error) {\n",
              "        console.error('Error during call to suggestCharts:', error);\n",
              "      }\n",
              "      quickchartButtonEl.classList.remove('colab-df-spinner');\n",
              "      quickchartButtonEl.classList.add('colab-df-quickchart-complete');\n",
              "    }\n",
              "    (() => {\n",
              "      let quickchartButtonEl =\n",
              "        document.querySelector('#df-ea0b97e4-2a74-4807-9ad8-03a4adba1dbf button');\n",
              "      quickchartButtonEl.style.display =\n",
              "        google.colab.kernel.accessAllowed ? 'block' : 'none';\n",
              "    })();\n",
              "  </script>\n",
              "</div>\n",
              "    </div>\n",
              "  </div>\n"
            ]
          },
          "metadata": {},
          "execution_count": 12
        }
      ]
    },
    {
      "cell_type": "code",
      "source": [
        "df = pd.DataFrame(np.random.randint(1,100, 40).reshape(10, -1))\n",
        "\n",
        "print(df)\n",
        "print(\"\\n\")\n",
        "row_high_num = df.sum(axis=0).argmax()\n",
        "print(row_high_num)"
      ],
      "metadata": {
        "colab": {
          "base_uri": "https://localhost:8080/"
        },
        "id": "hyO4zN-Pu7DO",
        "outputId": "ab38a886-bbbb-4354-c759-65fff1354987"
      },
      "execution_count": null,
      "outputs": [
        {
          "output_type": "stream",
          "name": "stdout",
          "text": [
            "    0   1   2   3\n",
            "0  58  76  93  55\n",
            "1   1  24  88  62\n",
            "2  35  80  36  59\n",
            "3  99  79  19  28\n",
            "4   4   6  59  90\n",
            "5  73  61  73  66\n",
            "6  53   8  62  70\n",
            "7  86   1  85  93\n",
            "8  49  15  40  84\n",
            "9  59  55   2   8\n",
            "\n",
            "\n",
            "3\n"
          ]
        }
      ]
    },
    {
      "cell_type": "code",
      "source": [
        "df = pd.DataFrame(np.random.randint(1,100, 40).reshape(10, -1), columns=list('pqrs'), index=list('abcdefghij'))\n",
        "\n",
        "print(df)\n",
        "print(\"\\n\")\n",
        "from sklearn.neighbors import NearestNeighbors\n",
        "nbrs = NearestNeighbors(n_neighbors=2, algorithm='ball_tree').fit(df)\n",
        "distances, indices = nbrs.kneighbors(df)\n",
        "df.insert(4,\"nearest row\",df.index[indices[:,1]],True)\n",
        "df.insert(5,\"distances\", distances[:,1],True)\n",
        "print(df.index[indices[:,1]])"
      ],
      "metadata": {
        "colab": {
          "base_uri": "https://localhost:8080/"
        },
        "id": "L0-c69O5v9bA",
        "outputId": "575a7545-e974-4866-9c13-6c58b5a9a48a"
      },
      "execution_count": null,
      "outputs": [
        {
          "output_type": "stream",
          "name": "stdout",
          "text": [
            "    p   q   r   s\n",
            "a  65  31  60  83\n",
            "b  98  49  41   9\n",
            "c   7  30  93  46\n",
            "d  29  99  61  99\n",
            "e  17  34  35  74\n",
            "f  55  38  31  49\n",
            "g  81  20  52  87\n",
            "h  28  55  47   6\n",
            "i  73  21  17  27\n",
            "j   4  25   2  14\n",
            "\n",
            "\n",
            "Index(['g', 'i', 'e', 'e', 'f', 'i', 'a', 'f', 'f', 'h'], dtype='object')\n"
          ]
        }
      ]
    },
    {
      "cell_type": "code",
      "source": [
        "df = pd.DataFrame(np.random.randint(1,100, 80).reshape(8, -1), columns=list('pqrstuvwxy'), index=list('abcdefgh'))\n",
        "\n",
        "print(df)\n",
        "print(\"\\n\")\n",
        "abs_corrmat = np.abs(df.corr())\n",
        "max_corr = abs_corrmat.apply(lambda x: sorted(x)[-2])\n",
        "print('Макс. корреляция каждого столбца: ', np.round(max_corr.tolist(), 2))"
      ],
      "metadata": {
        "colab": {
          "base_uri": "https://localhost:8080/"
        },
        "id": "yIqz2jwuxbDe",
        "outputId": "35c896e1-ee38-45b5-ff65-e084cf99a551"
      },
      "execution_count": null,
      "outputs": [
        {
          "output_type": "stream",
          "name": "stdout",
          "text": [
            "    p   q   r   s   t   u   v   w   x   y\n",
            "a  64  43  11  65  87  87  16  66  19   5\n",
            "b  40  76  32   5  67  86   9  87   2  87\n",
            "c  83  99  11  88  12   2  16  20   6   4\n",
            "d  61  41  97   4   1  44  21  52  80  25\n",
            "e   7  21  47  65  24  41  46  27  96  68\n",
            "f  75  26  20  26  91  33  69  51  44  39\n",
            "g   6  35  39  80  16  59  31  51  63  42\n",
            "h  45  16  78  78  59   6  98   7   8  87\n",
            "\n",
            "\n",
            "Макс. корреляция каждого столбца:  [0.56 0.71 0.45 0.66 0.49 0.9  0.71 0.9  0.52 0.56]\n"
          ]
        }
      ]
    },
    {
      "cell_type": "code",
      "source": [
        "df = pd.DataFrame(np.random.randint(1,100, 80).reshape(8, -1))\n",
        "\n",
        "print(df)\n",
        "print(\"\\n\")\n",
        "min_by_max = df.apply(lambda x: np.min(x)/np.max(x), axis=1)\n",
        "print(min_by_max)"
      ],
      "metadata": {
        "colab": {
          "base_uri": "https://localhost:8080/"
        },
        "id": "hjsKs9ujBR8N",
        "outputId": "f8ee2f0d-e76b-45ac-8b43-5d92e293e26e"
      },
      "execution_count": null,
      "outputs": [
        {
          "output_type": "stream",
          "name": "stdout",
          "text": [
            "    0   1   2   3   4   5   6   7   8   9\n",
            "0  35  29  67  38  56  36  29  86  60  76\n",
            "1  80   4  99  29  92  85  73  81  29   8\n",
            "2  51  62  29  77  97  75  62  26  54  11\n",
            "3  37  69  32  52   3  66  35  28  59   5\n",
            "4  16   9  43  47  89  41  64  55   2  74\n",
            "5  63  78  69  77  39  70  80  38  68  45\n",
            "6  60  49  79  21  35  58   8  11  99  67\n",
            "7  73  46  21  40  16  34  51  51   4   4\n",
            "\n",
            "\n",
            "0    0.337209\n",
            "1    0.040404\n",
            "2    0.113402\n",
            "3    0.043478\n",
            "4    0.022472\n",
            "5    0.475000\n",
            "6    0.080808\n",
            "7    0.054795\n",
            "dtype: float64\n"
          ]
        }
      ]
    },
    {
      "cell_type": "code",
      "source": [
        "df = pd.DataFrame(np.random.randint(1,100, 80).reshape(8, -1))\n",
        "\n",
        "print(df)\n",
        "print(\"\\n\")\n",
        "out = df.apply(lambda x: x.sort_values().unique()[-2], axis=1)\n",
        "df['penultimate'] = out\n",
        "print(df)"
      ],
      "metadata": {
        "colab": {
          "base_uri": "https://localhost:8080/"
        },
        "id": "j3lRmn8MCIAz",
        "outputId": "d9fb9c9c-bef4-4ac4-cac3-39ed969c2cdd"
      },
      "execution_count": null,
      "outputs": [
        {
          "output_type": "stream",
          "name": "stdout",
          "text": [
            "    0   1   2   3   4   5   6   7   8   9\n",
            "0  20  42  79  53  25  60  20  13  89  47\n",
            "1  75   5  85  59   5  79  81  45  69  75\n",
            "2  30  83  80  80   5  75  37  11  69  72\n",
            "3  29  52  24  29  23  21  79  73   6  67\n",
            "4  75  46  80  82  91  97  86  16  18  95\n",
            "5  21  70  58   4  75  81   4  38  10  11\n",
            "6  96  65  41  93  40  14  71  38  22  16\n",
            "7  19  59  26  40  75  37  71  83   8  14\n",
            "\n",
            "\n",
            "    0   1   2   3   4   5   6   7   8   9  penultimate\n",
            "0  20  42  79  53  25  60  20  13  89  47           79\n",
            "1  75   5  85  59   5  79  81  45  69  75           81\n",
            "2  30  83  80  80   5  75  37  11  69  72           80\n",
            "3  29  52  24  29  23  21  79  73   6  67           73\n",
            "4  75  46  80  82  91  97  86  16  18  95           95\n",
            "5  21  70  58   4  75  81   4  38  10  11           75\n",
            "6  96  65  41  93  40  14  71  38  22  16           93\n",
            "7  19  59  26  40  75  37  71  83   8  14           75\n"
          ]
        }
      ]
    },
    {
      "cell_type": "code",
      "source": [
        "df = pd.DataFrame(np.random.randint(1,100, 80).reshape(8, -1))\n",
        "\n",
        "print(df)\n",
        "print(\"\\n\")\n",
        "out1 = df.apply(lambda x: ((x - x.mean())/x.std()).round(2))\n",
        "print('№1\\n',out1)\n",
        "out2 = df.apply(lambda x: ((x.max() - x)/(x.max() - x.min())).round(2))\n",
        "print('№2\\n', out2)"
      ],
      "metadata": {
        "colab": {
          "base_uri": "https://localhost:8080/"
        },
        "id": "tat5_jRJCiA7",
        "outputId": "8cf74b8d-6517-4780-ea8c-5aceac8c321b"
      },
      "execution_count": null,
      "outputs": [
        {
          "output_type": "stream",
          "name": "stdout",
          "text": [
            "    0   1   2   3   4   5   6   7   8   9\n",
            "0  29  17   2  65  76  30  88   4  78  57\n",
            "1  47  75  34  37  92  64  44  81  20  38\n",
            "2  93  62  93  82  61   4  49  58   2  64\n",
            "3  84  64   8  70  83  94  30  30  65   8\n",
            "4  67  98  88  26  34  39  98  96  26  86\n",
            "5  67  52  13   8  14  89  11  70  70  19\n",
            "6  67  85  19  80  26  68  87  54  92  36\n",
            "7  28   9  14  98  31  17  44  40  54  39\n",
            "\n",
            "\n",
            "№1\n",
            "       0     1     2     3     4     5     6     7     8     9\n",
            "0 -1.31 -1.31 -0.88  0.22  0.81 -0.62  1.02 -1.71  0.86  0.54\n",
            "1 -0.56  0.55  0.00 -0.68  1.35  0.40 -0.40  0.92 -0.98 -0.21\n",
            "2  1.38  0.14  1.63  0.76  0.30 -1.41 -0.24  0.13 -1.55  0.82\n",
            "3  1.00  0.20 -0.72  0.38  1.05  1.31 -0.85 -0.82  0.45 -1.41\n",
            "4  0.28  1.29  1.50 -1.03 -0.61 -0.35  1.34  1.43 -0.79  1.70\n",
            "5  0.28 -0.18 -0.58 -1.61 -1.29  1.16 -1.46  0.54  0.61 -0.97\n",
            "6  0.28  0.88 -0.41  0.70 -0.88  0.52  0.98 -0.00  1.30 -0.29\n",
            "7 -1.35 -1.57 -0.55  1.27 -0.72 -1.01 -0.40 -0.48  0.10 -0.17\n",
            "№2\n",
            "       0     1     2     3     4     5     6     7     8     9\n",
            "0  0.98  0.91  1.00  0.37  0.21  0.71  0.11  1.00  0.16  0.37\n",
            "1  0.71  0.26  0.65  0.68  0.00  0.33  0.62  0.16  0.80  0.62\n",
            "2  0.00  0.40  0.00  0.18  0.40  1.00  0.56  0.41  1.00  0.28\n",
            "3  0.14  0.38  0.93  0.31  0.12  0.00  0.78  0.72  0.30  1.00\n",
            "4  0.40  0.00  0.05  0.80  0.74  0.61  0.00  0.00  0.73  0.00\n",
            "5  0.40  0.52  0.88  1.00  1.00  0.06  1.00  0.28  0.24  0.86\n",
            "6  0.40  0.15  0.81  0.20  0.85  0.29  0.13  0.46  0.00  0.64\n",
            "7  1.00  1.00  0.87  0.00  0.78  0.86  0.62  0.61  0.42  0.60\n"
          ]
        }
      ]
    },
    {
      "cell_type": "code",
      "source": [
        "df = pd.DataFrame(np.random.randint(1,100, 80).reshape(8, -1))\n",
        "\n",
        "print(df)\n",
        "print(\"\\n\")\n",
        "print([df.iloc[i].corr(df.iloc[i+1]).round(2) for i in range(df.shape[0])[:-1]])"
      ],
      "metadata": {
        "colab": {
          "base_uri": "https://localhost:8080/"
        },
        "id": "pFAmNEC6C58q",
        "outputId": "d4c0e9f1-3eb9-4579-b572-60d7a439f787"
      },
      "execution_count": null,
      "outputs": [
        {
          "output_type": "stream",
          "name": "stdout",
          "text": [
            "    0   1   2   3   4   5   6   7   8   9\n",
            "0   8  88  24  35  18  73  70  95  86  30\n",
            "1  64  85  11  34  16  92  89  47  86  49\n",
            "2  37  43  95  50   7  13  39  59  85  45\n",
            "3  64  29  63  86  54  70  69  94  32  88\n",
            "4  80  99   2  77  48  36  56  15  69  67\n",
            "5  78  73  71  16  33  18  35   4  80  11\n",
            "6  35  72  62  38  20  21   2  70  13   5\n",
            "7  37  29  65  94   3   8  17  80  27  68\n",
            "\n",
            "\n",
            "[0.64, -0.17, -0.11, -0.4, 0.28, 0.18, 0.41]\n"
          ]
        }
      ]
    },
    {
      "cell_type": "code",
      "source": [
        "df = pd.DataFrame(np.random.randint(1,100, 100).reshape(10, -1))\n",
        "\n",
        "print(df)\n",
        "print(\"\\n\")\n",
        "for i in range(df.shape[0]):\n",
        "    df.iat[i, i] = 0\n",
        "    df.iat[df.shape[0]-i-1, i] = 0\n",
        "print(df)"
      ],
      "metadata": {
        "colab": {
          "base_uri": "https://localhost:8080/"
        },
        "id": "hvtKKJkVDTqf",
        "outputId": "6e041c54-046b-4248-f664-ae4ff2ab8c28"
      },
      "execution_count": null,
      "outputs": [
        {
          "output_type": "stream",
          "name": "stdout",
          "text": [
            "    0   1   2   3   4   5   6   7   8   9\n",
            "0  86  21  20   4  31  76  10  27  77  10\n",
            "1  83  54  59  51  29  74   9  75  50  24\n",
            "2  77  18  63  12  32   4  79  36  68  52\n",
            "3  26  94  31  69  18  61  54  91  90   6\n",
            "4  80  76   2  76   8  55  40  41   7  95\n",
            "5  92  87  21  92  97  86  65  42  44  45\n",
            "6  48  58  36  88  77  84  25  22  13  19\n",
            "7  58  76  74  89  78   1  96  82  53  69\n",
            "8  28  37  81  16   7  73  73  59  39  12\n",
            "9  16  68  37  22  17  47  86  80  18  63\n",
            "\n",
            "\n",
            "    0   1   2   3   4   5   6   7   8   9\n",
            "0   0  21  20   4  31  76  10  27  77   0\n",
            "1  83   0  59  51  29  74   9  75   0  24\n",
            "2  77  18   0  12  32   4  79   0  68  52\n",
            "3  26  94  31   0  18  61   0  91  90   6\n",
            "4  80  76   2  76   0   0  40  41   7  95\n",
            "5  92  87  21  92   0   0  65  42  44  45\n",
            "6  48  58  36   0  77  84   0  22  13  19\n",
            "7  58  76   0  89  78   1  96   0  53  69\n",
            "8  28   0  81  16   7  73  73  59   0  12\n",
            "9   0  68  37  22  17  47  86  80  18   0\n"
          ]
        }
      ]
    },
    {
      "cell_type": "code",
      "source": [
        "df = pd.DataFrame({'col1': ['apple', 'banana', 'orange'] * 3,\n",
        "                   'col2': np.random.rand(9),\n",
        "                   'col3': np.random.randint(0, 15, 9)})\n",
        "\n",
        "print(df)\n",
        "print(\"\\n\")\n",
        "df_grouped = df.groupby(['col1'])\n",
        "df_grouped.get_group('apple')\n",
        "for i, dff in df_grouped:\n",
        "    if i == 'apple':\n",
        "        print(dff)"
      ],
      "metadata": {
        "colab": {
          "base_uri": "https://localhost:8080/"
        },
        "id": "cAM72AwM2GLL",
        "outputId": "33ed7ad2-aa23-4f49-eeec-7f0e3f39b667"
      },
      "execution_count": null,
      "outputs": [
        {
          "output_type": "stream",
          "name": "stdout",
          "text": [
            "     col1      col2  col3\n",
            "0   apple  0.680255     6\n",
            "1  banana  0.982868     0\n",
            "2  orange  0.716412     8\n",
            "3   apple  0.231484     7\n",
            "4  banana  0.721375     9\n",
            "5  orange  0.667847     2\n",
            "6   apple  0.952179     6\n",
            "7  banana  0.255133     2\n",
            "8  orange  0.521159     5\n",
            "\n",
            "\n",
            "    col1      col2  col3\n",
            "0  apple  0.680255     6\n",
            "3  apple  0.231484     7\n",
            "6  apple  0.952179     6\n"
          ]
        },
        {
          "output_type": "stream",
          "name": "stderr",
          "text": [
            "<ipython-input-11-8b40a11c707d>:9: FutureWarning: In a future version of pandas, a length 1 tuple will be returned when iterating over a groupby with a grouper equal to a list of length 1. Don't supply a list with a single grouper to avoid this warning.\n",
            "  for i, dff in df_grouped:\n"
          ]
        }
      ]
    },
    {
      "cell_type": "code",
      "source": [
        "df = pd.DataFrame({'fruit': ['apple', 'banana', 'orange'] * 3,\n",
        "                   'taste': np.random.rand(9),\n",
        "                   'price': np.random.randint(0, 15, 9)})\n",
        "\n",
        "print(df)\n",
        "print(\"\\n\")\n",
        "df_grpd = df['taste'].groupby(df.fruit)\n",
        "df_grpd.get_group('banana').sort_values().iloc[-2]\n"
      ],
      "metadata": {
        "colab": {
          "base_uri": "https://localhost:8080/"
        },
        "id": "Fb81tDi_31DF",
        "outputId": "76994dd8-17ac-4d5d-d093-3cfe3e9d0e07"
      },
      "execution_count": null,
      "outputs": [
        {
          "output_type": "stream",
          "name": "stdout",
          "text": [
            "    fruit     taste  price\n",
            "0   apple  0.563780      3\n",
            "1  banana  0.750407      0\n",
            "2  orange  0.003166      9\n",
            "3   apple  0.667083      5\n",
            "4  banana  0.606183      1\n",
            "5  orange  0.046580      6\n",
            "6   apple  0.062110     12\n",
            "7  banana  0.229510     14\n",
            "8  orange  0.115393     12\n",
            "\n",
            "\n"
          ]
        },
        {
          "output_type": "execute_result",
          "data": {
            "text/plain": [
              "0.6061826362439088"
            ]
          },
          "metadata": {},
          "execution_count": 13
        }
      ]
    },
    {
      "cell_type": "code",
      "source": [
        "df = pd.DataFrame({'fruit': ['apple', 'banana', 'orange'] * 3,\n",
        "                   'rating': np.random.rand(9),\n",
        "                   'price': np.random.randint(0, 15, 9)})\n",
        "\n",
        "print(df)\n",
        "print(\"\\n\")\n",
        "out = df.groupby('fruit', as_index=False)['price'].mean()\n",
        "print(out)"
      ],
      "metadata": {
        "colab": {
          "base_uri": "https://localhost:8080/"
        },
        "id": "oZaKqz7X4WpX",
        "outputId": "54d37020-70e2-459b-967e-949d8ea3fa3a"
      },
      "execution_count": null,
      "outputs": [
        {
          "output_type": "stream",
          "name": "stdout",
          "text": [
            "    fruit    rating  price\n",
            "0   apple  0.503180     10\n",
            "1  banana  0.355223      5\n",
            "2  orange  0.893262     13\n",
            "3   apple  0.030247      9\n",
            "4  banana  0.410460      0\n",
            "5  orange  0.990510      1\n",
            "6   apple  0.909350     14\n",
            "7  banana  0.034768      1\n",
            "8  orange  0.739888      1\n",
            "\n",
            "\n",
            "    fruit  price\n",
            "0   apple   11.0\n",
            "1  banana    2.0\n",
            "2  orange    5.0\n"
          ]
        }
      ]
    },
    {
      "cell_type": "code",
      "source": [
        "df1 = pd.DataFrame({'fruit': ['apple', 'banana', 'orange'] * 3,\n",
        "                    'weight': ['high', 'medium', 'low'] * 3,\n",
        "                    'price': np.random.randint(0, 15, 9)})\n",
        "\n",
        "df2 = pd.DataFrame({'pazham': ['apple', 'orange', 'pine'] * 2,\n",
        "                    'kilo': ['high', 'low'] * 3,\n",
        "                    'price': np.random.randint(0, 15, 6)})\n",
        "\n",
        "print(df1)\n",
        "print(\"\\n\")\n",
        "print(df2)\n",
        "print(\"\\n\")\n",
        "pd.merge(df1, df2, how='inner', left_on=['fruit', 'weight'], right_on=['pazham', 'kilo'], suffixes=['_left', '_right'])"
      ],
      "metadata": {
        "colab": {
          "base_uri": "https://localhost:8080/",
          "height": 602
        },
        "id": "ZyPXTeqr4o3h",
        "outputId": "7f11cabc-0de9-48cd-d249-1752a19a069b"
      },
      "execution_count": null,
      "outputs": [
        {
          "output_type": "stream",
          "name": "stdout",
          "text": [
            "    fruit  weight  price\n",
            "0   apple    high      7\n",
            "1  banana  medium      1\n",
            "2  orange     low      4\n",
            "3   apple    high      9\n",
            "4  banana  medium     12\n",
            "5  orange     low      3\n",
            "6   apple    high     13\n",
            "7  banana  medium      6\n",
            "8  orange     low     10\n",
            "\n",
            "\n",
            "   pazham  kilo  price\n",
            "0   apple  high      1\n",
            "1  orange   low      6\n",
            "2    pine  high     14\n",
            "3   apple   low     12\n",
            "4  orange  high     14\n",
            "5    pine   low      5\n",
            "\n",
            "\n"
          ]
        },
        {
          "output_type": "execute_result",
          "data": {
            "text/plain": [
              "    fruit weight  price_left  pazham  kilo  price_right\n",
              "0   apple   high           7   apple  high            1\n",
              "1   apple   high           9   apple  high            1\n",
              "2   apple   high          13   apple  high            1\n",
              "3  orange    low           4  orange   low            6\n",
              "4  orange    low           3  orange   low            6\n",
              "5  orange    low          10  orange   low            6"
            ],
            "text/html": [
              "\n",
              "  <div id=\"df-41d6370a-0b81-4875-8a4a-3c634fa7f798\" class=\"colab-df-container\">\n",
              "    <div>\n",
              "<style scoped>\n",
              "    .dataframe tbody tr th:only-of-type {\n",
              "        vertical-align: middle;\n",
              "    }\n",
              "\n",
              "    .dataframe tbody tr th {\n",
              "        vertical-align: top;\n",
              "    }\n",
              "\n",
              "    .dataframe thead th {\n",
              "        text-align: right;\n",
              "    }\n",
              "</style>\n",
              "<table border=\"1\" class=\"dataframe\">\n",
              "  <thead>\n",
              "    <tr style=\"text-align: right;\">\n",
              "      <th></th>\n",
              "      <th>fruit</th>\n",
              "      <th>weight</th>\n",
              "      <th>price_left</th>\n",
              "      <th>pazham</th>\n",
              "      <th>kilo</th>\n",
              "      <th>price_right</th>\n",
              "    </tr>\n",
              "  </thead>\n",
              "  <tbody>\n",
              "    <tr>\n",
              "      <th>0</th>\n",
              "      <td>apple</td>\n",
              "      <td>high</td>\n",
              "      <td>7</td>\n",
              "      <td>apple</td>\n",
              "      <td>high</td>\n",
              "      <td>1</td>\n",
              "    </tr>\n",
              "    <tr>\n",
              "      <th>1</th>\n",
              "      <td>apple</td>\n",
              "      <td>high</td>\n",
              "      <td>9</td>\n",
              "      <td>apple</td>\n",
              "      <td>high</td>\n",
              "      <td>1</td>\n",
              "    </tr>\n",
              "    <tr>\n",
              "      <th>2</th>\n",
              "      <td>apple</td>\n",
              "      <td>high</td>\n",
              "      <td>13</td>\n",
              "      <td>apple</td>\n",
              "      <td>high</td>\n",
              "      <td>1</td>\n",
              "    </tr>\n",
              "    <tr>\n",
              "      <th>3</th>\n",
              "      <td>orange</td>\n",
              "      <td>low</td>\n",
              "      <td>4</td>\n",
              "      <td>orange</td>\n",
              "      <td>low</td>\n",
              "      <td>6</td>\n",
              "    </tr>\n",
              "    <tr>\n",
              "      <th>4</th>\n",
              "      <td>orange</td>\n",
              "      <td>low</td>\n",
              "      <td>3</td>\n",
              "      <td>orange</td>\n",
              "      <td>low</td>\n",
              "      <td>6</td>\n",
              "    </tr>\n",
              "    <tr>\n",
              "      <th>5</th>\n",
              "      <td>orange</td>\n",
              "      <td>low</td>\n",
              "      <td>10</td>\n",
              "      <td>orange</td>\n",
              "      <td>low</td>\n",
              "      <td>6</td>\n",
              "    </tr>\n",
              "  </tbody>\n",
              "</table>\n",
              "</div>\n",
              "    <div class=\"colab-df-buttons\">\n",
              "\n",
              "  <div class=\"colab-df-container\">\n",
              "    <button class=\"colab-df-convert\" onclick=\"convertToInteractive('df-41d6370a-0b81-4875-8a4a-3c634fa7f798')\"\n",
              "            title=\"Convert this dataframe to an interactive table.\"\n",
              "            style=\"display:none;\">\n",
              "\n",
              "  <svg xmlns=\"http://www.w3.org/2000/svg\" height=\"24px\" viewBox=\"0 -960 960 960\">\n",
              "    <path d=\"M120-120v-720h720v720H120Zm60-500h600v-160H180v160Zm220 220h160v-160H400v160Zm0 220h160v-160H400v160ZM180-400h160v-160H180v160Zm440 0h160v-160H620v160ZM180-180h160v-160H180v160Zm440 0h160v-160H620v160Z\"/>\n",
              "  </svg>\n",
              "    </button>\n",
              "\n",
              "  <style>\n",
              "    .colab-df-container {\n",
              "      display:flex;\n",
              "      gap: 12px;\n",
              "    }\n",
              "\n",
              "    .colab-df-convert {\n",
              "      background-color: #E8F0FE;\n",
              "      border: none;\n",
              "      border-radius: 50%;\n",
              "      cursor: pointer;\n",
              "      display: none;\n",
              "      fill: #1967D2;\n",
              "      height: 32px;\n",
              "      padding: 0 0 0 0;\n",
              "      width: 32px;\n",
              "    }\n",
              "\n",
              "    .colab-df-convert:hover {\n",
              "      background-color: #E2EBFA;\n",
              "      box-shadow: 0px 1px 2px rgba(60, 64, 67, 0.3), 0px 1px 3px 1px rgba(60, 64, 67, 0.15);\n",
              "      fill: #174EA6;\n",
              "    }\n",
              "\n",
              "    .colab-df-buttons div {\n",
              "      margin-bottom: 4px;\n",
              "    }\n",
              "\n",
              "    [theme=dark] .colab-df-convert {\n",
              "      background-color: #3B4455;\n",
              "      fill: #D2E3FC;\n",
              "    }\n",
              "\n",
              "    [theme=dark] .colab-df-convert:hover {\n",
              "      background-color: #434B5C;\n",
              "      box-shadow: 0px 1px 3px 1px rgba(0, 0, 0, 0.15);\n",
              "      filter: drop-shadow(0px 1px 2px rgba(0, 0, 0, 0.3));\n",
              "      fill: #FFFFFF;\n",
              "    }\n",
              "  </style>\n",
              "\n",
              "    <script>\n",
              "      const buttonEl =\n",
              "        document.querySelector('#df-41d6370a-0b81-4875-8a4a-3c634fa7f798 button.colab-df-convert');\n",
              "      buttonEl.style.display =\n",
              "        google.colab.kernel.accessAllowed ? 'block' : 'none';\n",
              "\n",
              "      async function convertToInteractive(key) {\n",
              "        const element = document.querySelector('#df-41d6370a-0b81-4875-8a4a-3c634fa7f798');\n",
              "        const dataTable =\n",
              "          await google.colab.kernel.invokeFunction('convertToInteractive',\n",
              "                                                    [key], {});\n",
              "        if (!dataTable) return;\n",
              "\n",
              "        const docLinkHtml = 'Like what you see? Visit the ' +\n",
              "          '<a target=\"_blank\" href=https://colab.research.google.com/notebooks/data_table.ipynb>data table notebook</a>'\n",
              "          + ' to learn more about interactive tables.';\n",
              "        element.innerHTML = '';\n",
              "        dataTable['output_type'] = 'display_data';\n",
              "        await google.colab.output.renderOutput(dataTable, element);\n",
              "        const docLink = document.createElement('div');\n",
              "        docLink.innerHTML = docLinkHtml;\n",
              "        element.appendChild(docLink);\n",
              "      }\n",
              "    </script>\n",
              "  </div>\n",
              "\n",
              "\n",
              "<div id=\"df-7c2ecf04-9025-470a-a0f7-31fac6c216d2\">\n",
              "  <button class=\"colab-df-quickchart\" onclick=\"quickchart('df-7c2ecf04-9025-470a-a0f7-31fac6c216d2')\"\n",
              "            title=\"Suggest charts\"\n",
              "            style=\"display:none;\">\n",
              "\n",
              "<svg xmlns=\"http://www.w3.org/2000/svg\" height=\"24px\"viewBox=\"0 0 24 24\"\n",
              "     width=\"24px\">\n",
              "    <g>\n",
              "        <path d=\"M19 3H5c-1.1 0-2 .9-2 2v14c0 1.1.9 2 2 2h14c1.1 0 2-.9 2-2V5c0-1.1-.9-2-2-2zM9 17H7v-7h2v7zm4 0h-2V7h2v10zm4 0h-2v-4h2v4z\"/>\n",
              "    </g>\n",
              "</svg>\n",
              "  </button>\n",
              "\n",
              "<style>\n",
              "  .colab-df-quickchart {\n",
              "      --bg-color: #E8F0FE;\n",
              "      --fill-color: #1967D2;\n",
              "      --hover-bg-color: #E2EBFA;\n",
              "      --hover-fill-color: #174EA6;\n",
              "      --disabled-fill-color: #AAA;\n",
              "      --disabled-bg-color: #DDD;\n",
              "  }\n",
              "\n",
              "  [theme=dark] .colab-df-quickchart {\n",
              "      --bg-color: #3B4455;\n",
              "      --fill-color: #D2E3FC;\n",
              "      --hover-bg-color: #434B5C;\n",
              "      --hover-fill-color: #FFFFFF;\n",
              "      --disabled-bg-color: #3B4455;\n",
              "      --disabled-fill-color: #666;\n",
              "  }\n",
              "\n",
              "  .colab-df-quickchart {\n",
              "    background-color: var(--bg-color);\n",
              "    border: none;\n",
              "    border-radius: 50%;\n",
              "    cursor: pointer;\n",
              "    display: none;\n",
              "    fill: var(--fill-color);\n",
              "    height: 32px;\n",
              "    padding: 0;\n",
              "    width: 32px;\n",
              "  }\n",
              "\n",
              "  .colab-df-quickchart:hover {\n",
              "    background-color: var(--hover-bg-color);\n",
              "    box-shadow: 0 1px 2px rgba(60, 64, 67, 0.3), 0 1px 3px 1px rgba(60, 64, 67, 0.15);\n",
              "    fill: var(--button-hover-fill-color);\n",
              "  }\n",
              "\n",
              "  .colab-df-quickchart-complete:disabled,\n",
              "  .colab-df-quickchart-complete:disabled:hover {\n",
              "    background-color: var(--disabled-bg-color);\n",
              "    fill: var(--disabled-fill-color);\n",
              "    box-shadow: none;\n",
              "  }\n",
              "\n",
              "  .colab-df-spinner {\n",
              "    border: 2px solid var(--fill-color);\n",
              "    border-color: transparent;\n",
              "    border-bottom-color: var(--fill-color);\n",
              "    animation:\n",
              "      spin 1s steps(1) infinite;\n",
              "  }\n",
              "\n",
              "  @keyframes spin {\n",
              "    0% {\n",
              "      border-color: transparent;\n",
              "      border-bottom-color: var(--fill-color);\n",
              "      border-left-color: var(--fill-color);\n",
              "    }\n",
              "    20% {\n",
              "      border-color: transparent;\n",
              "      border-left-color: var(--fill-color);\n",
              "      border-top-color: var(--fill-color);\n",
              "    }\n",
              "    30% {\n",
              "      border-color: transparent;\n",
              "      border-left-color: var(--fill-color);\n",
              "      border-top-color: var(--fill-color);\n",
              "      border-right-color: var(--fill-color);\n",
              "    }\n",
              "    40% {\n",
              "      border-color: transparent;\n",
              "      border-right-color: var(--fill-color);\n",
              "      border-top-color: var(--fill-color);\n",
              "    }\n",
              "    60% {\n",
              "      border-color: transparent;\n",
              "      border-right-color: var(--fill-color);\n",
              "    }\n",
              "    80% {\n",
              "      border-color: transparent;\n",
              "      border-right-color: var(--fill-color);\n",
              "      border-bottom-color: var(--fill-color);\n",
              "    }\n",
              "    90% {\n",
              "      border-color: transparent;\n",
              "      border-bottom-color: var(--fill-color);\n",
              "    }\n",
              "  }\n",
              "</style>\n",
              "\n",
              "  <script>\n",
              "    async function quickchart(key) {\n",
              "      const quickchartButtonEl =\n",
              "        document.querySelector('#' + key + ' button');\n",
              "      quickchartButtonEl.disabled = true;  // To prevent multiple clicks.\n",
              "      quickchartButtonEl.classList.add('colab-df-spinner');\n",
              "      try {\n",
              "        const charts = await google.colab.kernel.invokeFunction(\n",
              "            'suggestCharts', [key], {});\n",
              "      } catch (error) {\n",
              "        console.error('Error during call to suggestCharts:', error);\n",
              "      }\n",
              "      quickchartButtonEl.classList.remove('colab-df-spinner');\n",
              "      quickchartButtonEl.classList.add('colab-df-quickchart-complete');\n",
              "    }\n",
              "    (() => {\n",
              "      let quickchartButtonEl =\n",
              "        document.querySelector('#df-7c2ecf04-9025-470a-a0f7-31fac6c216d2 button');\n",
              "      quickchartButtonEl.style.display =\n",
              "        google.colab.kernel.accessAllowed ? 'block' : 'none';\n",
              "    })();\n",
              "  </script>\n",
              "</div>\n",
              "    </div>\n",
              "  </div>\n"
            ]
          },
          "metadata": {},
          "execution_count": 16
        }
      ]
    },
    {
      "cell_type": "code",
      "source": [
        "df = pd.DataFrame(np.random.randint(1, 100, 20).reshape(-1, 4), columns = list('abcd'))\n",
        "\n",
        "print(df)\n",
        "print(\"\\n\")\n",
        "df['a_lag1'] = df['a'].shift(-1)\n",
        "df['b_lead1'] = df['b'].shift(1)\n",
        "print(df)"
      ],
      "metadata": {
        "colab": {
          "base_uri": "https://localhost:8080/"
        },
        "id": "PdNhWE4Q5Ajb",
        "outputId": "d8342469-9042-4774-d19c-50ec9d7e3fa3"
      },
      "execution_count": null,
      "outputs": [
        {
          "output_type": "stream",
          "name": "stdout",
          "text": [
            "    a   b   c   d\n",
            "0  62  52  42  18\n",
            "1  14  69  27  45\n",
            "2   6  19  11  37\n",
            "3  69  44  46  11\n",
            "4  71  55  78  74\n",
            "\n",
            "\n",
            "    a   b   c   d  a_lag1  b_lead1\n",
            "0  62  52  42  18    14.0      NaN\n",
            "1  14  69  27  45     6.0     52.0\n",
            "2   6  19  11  37    69.0     69.0\n",
            "3  69  44  46  11    71.0     19.0\n",
            "4  71  55  78  74     NaN     44.0\n"
          ]
        }
      ]
    },
    {
      "cell_type": "code",
      "source": [
        "df = pd.DataFrame(np.random.randint(1, 10, 20).reshape(-1, 4), columns = list('abcd'))\n",
        "\n",
        "print(df)\n",
        "print(\"\\n\")\n",
        "pd.value_counts(df.values.ravel())"
      ],
      "metadata": {
        "colab": {
          "base_uri": "https://localhost:8080/"
        },
        "id": "OSKR5E045P34",
        "outputId": "56a27b53-7852-4653-a1b8-6026c7319d44"
      },
      "execution_count": null,
      "outputs": [
        {
          "output_type": "stream",
          "name": "stdout",
          "text": [
            "   a  b  c  d\n",
            "0  7  7  3  6\n",
            "1  3  9  2  3\n",
            "2  4  2  6  1\n",
            "3  8  3  1  7\n",
            "4  6  4  8  2\n",
            "\n",
            "\n"
          ]
        },
        {
          "output_type": "execute_result",
          "data": {
            "text/plain": [
              "3    4\n",
              "7    3\n",
              "6    3\n",
              "2    3\n",
              "4    2\n",
              "1    2\n",
              "8    2\n",
              "9    1\n",
              "dtype: int64"
            ]
          },
          "metadata": {},
          "execution_count": 19
        }
      ]
    },
    {
      "cell_type": "code",
      "source": [
        "df = pd.DataFrame([\"STD, City    State\",\n",
        "\"33, Kolkata    West Bengal\",\n",
        "\"44, Chennai    Tamil Nadu\",\n",
        "\"40, Hyderabad    Telengana\",\n",
        "\"80, Bangalore    Karnataka\"], columns=['row'])\n",
        "\n",
        "print(df)\n",
        "print(\"\\n\")\n",
        "df_out = df.row.str.split(',|\\t', expand=True)\n",
        "new_header = df_out.iloc[0]\n",
        "df_out = df_out[1:]\n",
        "df_out.columns = new_header\n",
        "print(df_out)"
      ],
      "metadata": {
        "colab": {
          "base_uri": "https://localhost:8080/"
        },
        "id": "Yo9uXBmL5oLt",
        "outputId": "457f1011-c31b-4403-afc7-20ef8e0061e6"
      },
      "execution_count": null,
      "outputs": [
        {
          "output_type": "stream",
          "name": "stdout",
          "text": [
            "                          row\n",
            "0          STD, City    State\n",
            "1  33, Kolkata    West Bengal\n",
            "2   44, Chennai    Tamil Nadu\n",
            "3  40, Hyderabad    Telengana\n",
            "4  80, Bangalore    Karnataka\n",
            "\n",
            "\n",
            "0 STD            City    State\n",
            "1  33   Kolkata    West Bengal\n",
            "2  44    Chennai    Tamil Nadu\n",
            "3  40   Hyderabad    Telengana\n",
            "4  80   Bangalore    Karnataka\n"
          ]
        }
      ]
    }
  ]
}